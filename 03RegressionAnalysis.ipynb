{
 "cells": [
  {
   "cell_type": "code",
   "execution_count": 9,
   "metadata": {},
   "outputs": [],
   "source": [
    "# 패키지 로딩하기\n",
    "import seaborn as sns\n",
    "import pandas as pd\n",
    "import statsmodels.formula.api as smf\n",
    "import matplotlib.pyplot as plt"
   ]
  },
  {
   "cell_type": "code",
   "execution_count": 3,
   "metadata": {},
   "outputs": [],
   "source": [
    "regData = pd.read_excel(\"regression.xlsx\", sheetname=0)"
   ]
  },
  {
   "cell_type": "code",
   "execution_count": 4,
   "metadata": {},
   "outputs": [],
   "source": [
    "# 단순회귀분석\n",
    "model = smf.ols(\"Number_of_weekly_riders ~ Price_per_week\", regData).fit()"
   ]
  },
  {
   "cell_type": "code",
   "execution_count": 5,
   "metadata": {},
   "outputs": [
    {
     "data": {
      "text/html": [
       "<table class=\"simpletable\">\n",
       "<caption>OLS Regression Results</caption>\n",
       "<tr>\n",
       "  <th>Dep. Variable:</th>    <td>Number_of_weekly_riders</td> <th>  R-squared:         </th> <td>   0.933</td>\n",
       "</tr>\n",
       "<tr>\n",
       "  <th>Model:</th>                      <td>OLS</td>           <th>  Adj. R-squared:    </th> <td>   0.930</td>\n",
       "</tr>\n",
       "<tr>\n",
       "  <th>Method:</th>                <td>Least Squares</td>      <th>  F-statistic:       </th> <td>   348.5</td>\n",
       "</tr>\n",
       "<tr>\n",
       "  <th>Date:</th>                <td>Wed, 20 Jun 2018</td>     <th>  Prob (F-statistic):</th> <td>3.41e-16</td>\n",
       "</tr>\n",
       "<tr>\n",
       "  <th>Time:</th>                    <td>23:20:40</td>         <th>  Log-Likelihood:    </th> <td> -270.39</td>\n",
       "</tr>\n",
       "<tr>\n",
       "  <th>No. Observations:</th>         <td>    27</td>          <th>  AIC:               </th> <td>   544.8</td>\n",
       "</tr>\n",
       "<tr>\n",
       "  <th>Df Residuals:</th>             <td>    25</td>          <th>  BIC:               </th> <td>   547.4</td>\n",
       "</tr>\n",
       "<tr>\n",
       "  <th>Df Model:</th>                 <td>     1</td>          <th>                     </th>     <td> </td>   \n",
       "</tr>\n",
       "<tr>\n",
       "  <th>Covariance Type:</th>         <td>nonrobust</td>        <th>                     </th>     <td> </td>   \n",
       "</tr>\n",
       "</table>\n",
       "<table class=\"simpletable\">\n",
       "<tr>\n",
       "         <td></td>           <th>coef</th>     <th>std err</th>      <th>t</th>      <th>P>|t|</th>  <th>[0.025</th>    <th>0.975]</th>  \n",
       "</tr>\n",
       "<tr>\n",
       "  <th>Intercept</th>      <td> 1.972e+05</td> <td> 2266.481</td> <td>   87.011</td> <td> 0.000</td> <td> 1.93e+05</td> <td> 2.02e+05</td>\n",
       "</tr>\n",
       "<tr>\n",
       "  <th>Price_per_week</th> <td> -744.7487</td> <td>   39.894</td> <td>  -18.668</td> <td> 0.000</td> <td> -826.912</td> <td> -662.585</td>\n",
       "</tr>\n",
       "</table>\n",
       "<table class=\"simpletable\">\n",
       "<tr>\n",
       "  <th>Omnibus:</th>       <td> 1.648</td> <th>  Durbin-Watson:     </th> <td>   1.243</td>\n",
       "</tr>\n",
       "<tr>\n",
       "  <th>Prob(Omnibus):</th> <td> 0.439</td> <th>  Jarque-Bera (JB):  </th> <td>   1.497</td>\n",
       "</tr>\n",
       "<tr>\n",
       "  <th>Skew:</th>          <td> 0.507</td> <th>  Prob(JB):          </th> <td>   0.473</td>\n",
       "</tr>\n",
       "<tr>\n",
       "  <th>Kurtosis:</th>      <td> 2.451</td> <th>  Cond. No.          </th> <td>    119.</td>\n",
       "</tr>\n",
       "</table>"
      ],
      "text/plain": [
       "<class 'statsmodels.iolib.summary.Summary'>\n",
       "\"\"\"\n",
       "                               OLS Regression Results                              \n",
       "===================================================================================\n",
       "Dep. Variable:     Number_of_weekly_riders   R-squared:                       0.933\n",
       "Model:                                 OLS   Adj. R-squared:                  0.930\n",
       "Method:                      Least Squares   F-statistic:                     348.5\n",
       "Date:                     Wed, 20 Jun 2018   Prob (F-statistic):           3.41e-16\n",
       "Time:                             23:20:40   Log-Likelihood:                -270.39\n",
       "No. Observations:                       27   AIC:                             544.8\n",
       "Df Residuals:                           25   BIC:                             547.4\n",
       "Df Model:                                1                                         \n",
       "Covariance Type:                 nonrobust                                         \n",
       "==================================================================================\n",
       "                     coef    std err          t      P>|t|      [0.025      0.975]\n",
       "----------------------------------------------------------------------------------\n",
       "Intercept       1.972e+05   2266.481     87.011      0.000    1.93e+05    2.02e+05\n",
       "Price_per_week  -744.7487     39.894    -18.668      0.000    -826.912    -662.585\n",
       "==============================================================================\n",
       "Omnibus:                        1.648   Durbin-Watson:                   1.243\n",
       "Prob(Omnibus):                  0.439   Jarque-Bera (JB):                1.497\n",
       "Skew:                           0.507   Prob(JB):                        0.473\n",
       "Kurtosis:                       2.451   Cond. No.                         119.\n",
       "==============================================================================\n",
       "\n",
       "Warnings:\n",
       "[1] Standard Errors assume that the covariance matrix of the errors is correctly specified.\n",
       "\"\"\""
      ]
     },
     "execution_count": 5,
     "metadata": {},
     "output_type": "execute_result"
    }
   ],
   "source": [
    "# 회귀분석 결과 보기\n",
    "model.summary()"
   ]
  },
  {
   "cell_type": "code",
   "execution_count": 11,
   "metadata": {},
   "outputs": [
    {
     "data": {
      "image/png": "[encoded data removed]",
      "text/plain": [
       "<matplotlib.figure.Figure at 0x255ab2832b0>"
      ]
     },
     "metadata": {},
     "output_type": "display_data"
    }
   ],
   "source": [
    "# 예측하기\n",
    "model_predict = model.predict(regData)\n",
    "model_predict\n",
    "plt.scatter(regData[\"Number_of_weekly_riders\"], model_predict)\n",
    "plt.show()"
   ]
  },
  {
   "cell_type": "code",
   "execution_count": 24,
   "metadata": {},
   "outputs": [],
   "source": [
    "# 다중회귀분석\n",
    "model2 = smf.ols(\"Number_of_weekly_riders ~ Price_per_week+Population_of_city+Monthly_income_of_riders+Average_parking_rates_per_month\", regData).fit()"
   ]
  },
  {
   "cell_type": "code",
   "execution_count": 25,
   "metadata": {},
   "outputs": [
    {
     "data": {
      "text/html": [
       "<table class=\"simpletable\">\n",
       "<caption>OLS Regression Results</caption>\n",
       "<tr>\n",
       "  <th>Dep. Variable:</th>    <td>Number_of_weekly_riders</td> <th>  R-squared:         </th> <td>   0.945</td>\n",
       "</tr>\n",
       "<tr>\n",
       "  <th>Model:</th>                      <td>OLS</td>           <th>  Adj. R-squared:    </th> <td>   0.936</td>\n",
       "</tr>\n",
       "<tr>\n",
       "  <th>Method:</th>                <td>Least Squares</td>      <th>  F-statistic:       </th> <td>   95.40</td>\n",
       "</tr>\n",
       "<tr>\n",
       "  <th>Date:</th>                <td>Thu, 11 May 2017</td>     <th>  Prob (F-statistic):</th> <td>1.44e-13</td>\n",
       "</tr>\n",
       "<tr>\n",
       "  <th>Time:</th>                    <td>04:56:54</td>         <th>  Log-Likelihood:    </th> <td> -267.62</td>\n",
       "</tr>\n",
       "<tr>\n",
       "  <th>No. Observations:</th>         <td>    27</td>          <th>  AIC:               </th> <td>   545.2</td>\n",
       "</tr>\n",
       "<tr>\n",
       "  <th>Df Residuals:</th>             <td>    22</td>          <th>  BIC:               </th> <td>   551.7</td>\n",
       "</tr>\n",
       "<tr>\n",
       "  <th>Df Model:</th>                 <td>     4</td>          <th>                     </th>     <td> </td>   \n",
       "</tr>\n",
       "<tr>\n",
       "  <th>Covariance Type:</th>         <td>nonrobust</td>        <th>                     </th>     <td> </td>   \n",
       "</tr>\n",
       "</table>\n",
       "<table class=\"simpletable\">\n",
       "<tr>\n",
       "                 <td></td>                    <th>coef</th>     <th>std err</th>      <th>t</th>      <th>P>|t|</th> <th>[95.0% Conf. Int.]</th> \n",
       "</tr>\n",
       "<tr>\n",
       "  <th>Intercept</th>                       <td> 1.002e+05</td> <td> 1.36e+05</td> <td>    0.737</td> <td> 0.469</td> <td>-1.82e+05  3.82e+05</td>\n",
       "</tr>\n",
       "<tr>\n",
       "  <th>Price_per_week</th>                  <td> -689.5227</td> <td>   95.403</td> <td>   -7.227</td> <td> 0.000</td> <td> -887.376  -491.669</td>\n",
       "</tr>\n",
       "<tr>\n",
       "  <th>Population_of_city</th>              <td>    0.0549</td> <td>    0.072</td> <td>    0.759</td> <td> 0.456</td> <td>   -0.095     0.205</td>\n",
       "</tr>\n",
       "<tr>\n",
       "  <th>Monthly_income_of_riders</th>        <td>   -1.3014</td> <td>    1.627</td> <td>   -0.800</td> <td> 0.432</td> <td>   -4.676     2.074</td>\n",
       "</tr>\n",
       "<tr>\n",
       "  <th>Average_parking_rates_per_month</th> <td>  152.4564</td> <td>   73.863</td> <td>    2.064</td> <td> 0.051</td> <td>   -0.726   305.639</td>\n",
       "</tr>\n",
       "</table>\n",
       "<table class=\"simpletable\">\n",
       "<tr>\n",
       "  <th>Omnibus:</th>       <td> 2.537</td> <th>  Durbin-Watson:     </th> <td>   1.438</td>\n",
       "</tr>\n",
       "<tr>\n",
       "  <th>Prob(Omnibus):</th> <td> 0.281</td> <th>  Jarque-Bera (JB):  </th> <td>   1.982</td>\n",
       "</tr>\n",
       "<tr>\n",
       "  <th>Skew:</th>          <td> 0.656</td> <th>  Prob(JB):          </th> <td>   0.371</td>\n",
       "</tr>\n",
       "<tr>\n",
       "  <th>Kurtosis:</th>      <td> 2.802</td> <th>  Cond. No.          </th> <td>2.20e+08</td>\n",
       "</tr>\n",
       "</table>"
      ],
      "text/plain": [
       "<class 'statsmodels.iolib.summary.Summary'>\n",
       "\"\"\"\n",
       "                               OLS Regression Results                              \n",
       "===================================================================================\n",
       "Dep. Variable:     Number_of_weekly_riders   R-squared:                       0.945\n",
       "Model:                                 OLS   Adj. R-squared:                  0.936\n",
       "Method:                      Least Squares   F-statistic:                     95.40\n",
       "Date:                     Thu, 11 May 2017   Prob (F-statistic):           1.44e-13\n",
       "Time:                             04:56:54   Log-Likelihood:                -267.62\n",
       "No. Observations:                       27   AIC:                             545.2\n",
       "Df Residuals:                           22   BIC:                             551.7\n",
       "Df Model:                                4                                         \n",
       "Covariance Type:                 nonrobust                                         \n",
       "===================================================================================================\n",
       "                                      coef    std err          t      P>|t|      [95.0% Conf. Int.]\n",
       "---------------------------------------------------------------------------------------------------\n",
       "Intercept                        1.002e+05   1.36e+05      0.737      0.469     -1.82e+05  3.82e+05\n",
       "Price_per_week                   -689.5227     95.403     -7.227      0.000      -887.376  -491.669\n",
       "Population_of_city                  0.0549      0.072      0.759      0.456        -0.095     0.205\n",
       "Monthly_income_of_riders           -1.3014      1.627     -0.800      0.432        -4.676     2.074\n",
       "Average_parking_rates_per_month   152.4564     73.863      2.064      0.051        -0.726   305.639\n",
       "==============================================================================\n",
       "Omnibus:                        2.537   Durbin-Watson:                   1.438\n",
       "Prob(Omnibus):                  0.281   Jarque-Bera (JB):                1.982\n",
       "Skew:                           0.656   Prob(JB):                        0.371\n",
       "Kurtosis:                       2.802   Cond. No.                     2.20e+08\n",
       "==============================================================================\n",
       "\n",
       "Warnings:\n",
       "[1] Standard Errors assume that the covariance matrix of the errors is correctly specified.\n",
       "[2] The condition number is large, 2.2e+08. This might indicate that there are\n",
       "strong multicollinearity or other numerical problems.\n",
       "\"\"\""
      ]
     },
     "execution_count": 25,
     "metadata": {},
     "output_type": "execute_result"
    }
   ],
   "source": [
    "# 다중회귀분석 결과보기\n",
    "model2.summary()"
   ]
  },
  {
   "cell_type": "code",
   "execution_count": 12,
   "metadata": {},
   "outputs": [
    {
     "data": {
      "image/png": "[encoded data removed]",
      "text/plain": [
       "<matplotlib.figure.Figure at 0x255ab288d30>"
      ]
     },
     "metadata": {},
     "output_type": "display_data"
    }
   ],
   "source": [
    "# 예측하기\n",
    "model2_predict = model.predict(regData)\n",
    "model2_predict\n",
    "plt.scatter(regData[\"Number_of_weekly_riders\"], model2_predict)\n",
    "plt.show()"
   ]
  },
  {
   "cell_type": "code",
   "execution_count": null,
   "metadata": {
    "collapsed": true
   },
   "outputs": [],
   "source": []
  }
 ],
 "metadata": {
  "anaconda-cloud": {},
  "kernelspec": {
   "display_name": "Python 3",
   "language": "python",
   "name": "python3"
  },
  "language_info": {
   "codemirror_mode": {
    "name": "ipython",
    "version": 3
   },
   "file_extension": ".py",
   "mimetype": "text/x-python",
   "name": "python",
   "nbconvert_exporter": "python",
   "pygments_lexer": "ipython3",
   "version": "3.6.3"
  }
 },
 "nbformat": 4,
 "nbformat_minor": 1
}
