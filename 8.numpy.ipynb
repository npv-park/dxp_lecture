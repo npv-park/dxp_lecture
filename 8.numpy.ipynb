{
 "cells": [
  {
   "cell_type": "markdown",
   "metadata": {},
   "source": [
    "## The N-Dimensional array"
   ]
  },
  {
   "cell_type": "code",
   "execution_count": 1,
   "metadata": {},
   "outputs": [],
   "source": [
    "import numpy as np"
   ]
  },
  {
   "cell_type": "code",
   "execution_count": 2,
   "metadata": {},
   "outputs": [
    {
     "name": "stdout",
     "output_type": "stream",
     "text": [
      "값:  [1 2 3] 차원:  1\n"
     ]
    }
   ],
   "source": [
    "a = np.array([1,2,3])\n",
    "print('값: ', a, '차원: ', a.ndim)"
   ]
  },
  {
   "cell_type": "code",
   "execution_count": 5,
   "metadata": {},
   "outputs": [],
   "source": [
    "a = np.array([[1,2,3],[4,5,6]])"
   ]
  },
  {
   "cell_type": "code",
   "execution_count": 6,
   "metadata": {},
   "outputs": [
    {
     "name": "stdout",
     "output_type": "stream",
     "text": [
      "[[1 2 3]\n",
      " [4 5 6]]\n"
     ]
    }
   ],
   "source": [
    "print(a)"
   ]
  },
  {
   "cell_type": "code",
   "execution_count": 9,
   "metadata": {},
   "outputs": [],
   "source": [
    "list1 = [1,2,3]\n",
    "list2 = [4,5,6]"
   ]
  },
  {
   "cell_type": "code",
   "execution_count": 11,
   "metadata": {},
   "outputs": [
    {
     "data": {
      "text/plain": [
       "array([[1, 2, 3],\n",
       "       [4, 5, 6]], dtype=int32)"
      ]
     },
     "execution_count": 11,
     "metadata": {},
     "output_type": "execute_result"
    }
   ],
   "source": [
    "x = np.array([list1,list2],dtype=np.int32)\n",
    "x"
   ]
  },
  {
   "cell_type": "code",
   "execution_count": 29,
   "metadata": {},
   "outputs": [
    {
     "data": {
      "text/plain": [
       "array([[1, 2, 3],\n",
       "       [4, 5, 6]], dtype=int32)"
      ]
     },
     "execution_count": 29,
     "metadata": {},
     "output_type": "execute_result"
    }
   ],
   "source": [
    "x = np.array([[1,2,3],[4,5,6]], np.int32)\n",
    "x"
   ]
  },
  {
   "cell_type": "code",
   "execution_count": 12,
   "metadata": {},
   "outputs": [
    {
     "data": {
      "text/plain": [
       "numpy.ndarray"
      ]
     },
     "execution_count": 12,
     "metadata": {},
     "output_type": "execute_result"
    }
   ],
   "source": [
    "type(x)"
   ]
  },
  {
   "cell_type": "code",
   "execution_count": 14,
   "metadata": {},
   "outputs": [
    {
     "data": {
      "text/plain": [
       "array([[1, 2, 3],\n",
       "       [4, 5, 6]], dtype=int32)"
      ]
     },
     "execution_count": 14,
     "metadata": {},
     "output_type": "execute_result"
    }
   ],
   "source": [
    "x"
   ]
  },
  {
   "cell_type": "code",
   "execution_count": 13,
   "metadata": {},
   "outputs": [
    {
     "data": {
      "text/plain": [
       "(2, 3)"
      ]
     },
     "execution_count": 13,
     "metadata": {},
     "output_type": "execute_result"
    }
   ],
   "source": [
    "x.shape"
   ]
  },
  {
   "cell_type": "code",
   "execution_count": 8,
   "metadata": {},
   "outputs": [
    {
     "data": {
      "text/plain": [
       "dtype('int32')"
      ]
     },
     "execution_count": 8,
     "metadata": {},
     "output_type": "execute_result"
    }
   ],
   "source": [
    "x.dtype"
   ]
  },
  {
   "cell_type": "code",
   "execution_count": 15,
   "metadata": {},
   "outputs": [
    {
     "data": {
      "text/plain": [
       "6"
      ]
     },
     "execution_count": 15,
     "metadata": {},
     "output_type": "execute_result"
    }
   ],
   "source": [
    "x.size"
   ]
  },
  {
   "cell_type": "code",
   "execution_count": 16,
   "metadata": {},
   "outputs": [
    {
     "data": {
      "text/plain": [
       "4"
      ]
     },
     "execution_count": 16,
     "metadata": {},
     "output_type": "execute_result"
    }
   ],
   "source": [
    "x.itemsize"
   ]
  },
  {
   "cell_type": "code",
   "execution_count": 17,
   "metadata": {},
   "outputs": [
    {
     "data": {
      "text/plain": [
       "(12, 4)"
      ]
     },
     "execution_count": 17,
     "metadata": {},
     "output_type": "execute_result"
    }
   ],
   "source": [
    "x.strides"
   ]
  },
  {
   "cell_type": "code",
   "execution_count": 18,
   "metadata": {},
   "outputs": [
    {
     "data": {
      "text/plain": [
       "array([[1, 4],\n",
       "       [2, 5],\n",
       "       [3, 6]], dtype=int32)"
      ]
     },
     "execution_count": 18,
     "metadata": {},
     "output_type": "execute_result"
    }
   ],
   "source": [
    "x.T"
   ]
  },
  {
   "cell_type": "code",
   "execution_count": 19,
   "metadata": {},
   "outputs": [
    {
     "data": {
      "text/plain": [
       "array([[1, 2, 3],\n",
       "       [4, 5, 6]], dtype=int32)"
      ]
     },
     "execution_count": 19,
     "metadata": {},
     "output_type": "execute_result"
    }
   ],
   "source": [
    "x"
   ]
  },
  {
   "cell_type": "code",
   "execution_count": 9,
   "metadata": {},
   "outputs": [
    {
     "data": {
      "text/plain": [
       "2"
      ]
     },
     "execution_count": 9,
     "metadata": {},
     "output_type": "execute_result"
    }
   ],
   "source": [
    "x.ndim"
   ]
  },
  {
   "cell_type": "code",
   "execution_count": 20,
   "metadata": {},
   "outputs": [
    {
     "data": {
      "text/plain": [
       "6"
      ]
     },
     "execution_count": 20,
     "metadata": {},
     "output_type": "execute_result"
    }
   ],
   "source": [
    "# The element of x in the *second* row, *third* column, namely, 6.\n",
    "x[1, 2]"
   ]
  },
  {
   "cell_type": "code",
   "execution_count": 21,
   "metadata": {},
   "outputs": [
    {
     "data": {
      "text/plain": [
       "array([2, 5], dtype=int32)"
      ]
     },
     "execution_count": 21,
     "metadata": {},
     "output_type": "execute_result"
    }
   ],
   "source": [
    "y = x[:,1]\n",
    "y"
   ]
  },
  {
   "cell_type": "code",
   "execution_count": 22,
   "metadata": {},
   "outputs": [
    {
     "data": {
      "text/plain": [
       "array([9, 5], dtype=int32)"
      ]
     },
     "execution_count": 22,
     "metadata": {},
     "output_type": "execute_result"
    }
   ],
   "source": [
    "y[0] = 9 # this also changes the corresponding element in x\n",
    "y"
   ]
  },
  {
   "cell_type": "code",
   "execution_count": 23,
   "metadata": {},
   "outputs": [
    {
     "data": {
      "text/plain": [
       "numpy.ndarray"
      ]
     },
     "execution_count": 23,
     "metadata": {},
     "output_type": "execute_result"
    }
   ],
   "source": [
    "type(y)"
   ]
  },
  {
   "cell_type": "code",
   "execution_count": 25,
   "metadata": {},
   "outputs": [
    {
     "data": {
      "text/plain": [
       "(9, 5)"
      ]
     },
     "execution_count": 25,
     "metadata": {},
     "output_type": "execute_result"
    }
   ],
   "source": [
    "tuple(y)"
   ]
  },
  {
   "cell_type": "code",
   "execution_count": 26,
   "metadata": {},
   "outputs": [
    {
     "data": {
      "text/plain": [
       "array([[1, 9, 3],\n",
       "       [4, 5, 6]], dtype=int32)"
      ]
     },
     "execution_count": 26,
     "metadata": {},
     "output_type": "execute_result"
    }
   ],
   "source": [
    "x"
   ]
  },
  {
   "cell_type": "code",
   "execution_count": 14,
   "metadata": {},
   "outputs": [
    {
     "data": {
      "text/plain": [
       "array([[1, 4],\n",
       "       [9, 5],\n",
       "       [3, 6]], dtype=int32)"
      ]
     },
     "execution_count": 14,
     "metadata": {},
     "output_type": "execute_result"
    }
   ],
   "source": [
    "x.T"
   ]
  },
  {
   "cell_type": "code",
   "execution_count": 30,
   "metadata": {},
   "outputs": [
    {
     "data": {
      "text/plain": [
       "array([[1, 2, 3],\n",
       "       [4, 5, 6]], dtype=int32)"
      ]
     },
     "execution_count": 30,
     "metadata": {},
     "output_type": "execute_result"
    }
   ],
   "source": [
    "x"
   ]
  },
  {
   "cell_type": "code",
   "execution_count": 31,
   "metadata": {},
   "outputs": [],
   "source": [
    "x.itemset((1,2),1)"
   ]
  },
  {
   "cell_type": "code",
   "execution_count": 32,
   "metadata": {},
   "outputs": [
    {
     "data": {
      "text/plain": [
       "array([[1, 2, 3],\n",
       "       [4, 5, 1]], dtype=int32)"
      ]
     },
     "execution_count": 32,
     "metadata": {},
     "output_type": "execute_result"
    }
   ],
   "source": [
    "x"
   ]
  },
  {
   "cell_type": "code",
   "execution_count": 52,
   "metadata": {},
   "outputs": [
    {
     "data": {
      "text/plain": [
       "array([[1, 2, 3],\n",
       "       [4, 5, 6],\n",
       "       [7, 8, 9]])"
      ]
     },
     "execution_count": 52,
     "metadata": {},
     "output_type": "execute_result"
    }
   ],
   "source": [
    "a = np.array([[1,2,3],[4,5,6],[7,8,9]]); a"
   ]
  },
  {
   "cell_type": "markdown",
   "metadata": {},
   "source": [
    "## ndarray Inspecting"
   ]
  },
  {
   "cell_type": "code",
   "execution_count": null,
   "metadata": {},
   "outputs": [],
   "source": [
    "import numpy as np"
   ]
  },
  {
   "cell_type": "code",
   "execution_count": 50,
   "metadata": {},
   "outputs": [
    {
     "name": "stdout",
     "output_type": "stream",
     "text": [
      "[[[[0.00000000e+000 4.33779560e-311]\n",
      "   [8.89318163e-323 0.00000000e+000]]\n",
      "\n",
      "  [[2.12199579e-314 1.16096346e-028]\n",
      "   [1.04857803e-142 1.16467185e-028]]\n",
      "\n",
      "  [[1.30354301e-076 2.62395837e+179]\n",
      "   [1.81152935e-152 1.39804065e-076]]]\n",
      "\n",
      "\n",
      " [[[1.18295070e-076 8.94279358e+130]\n",
      "   [1.72371836e-047 2.74010398e-057]]\n",
      "\n",
      "  [[9.11160143e+130 3.12075289e-033]\n",
      "   [7.25416361e-043 8.09244733e-153]]\n",
      "\n",
      "  [[9.95135518e-043 9.14758644e+140]\n",
      "   [4.85124939e-086 1.39838857e-076]]]\n",
      "\n",
      "\n",
      " [[[8.53716629e+136 4.62882712e-072]\n",
      "   [2.52904806e-052 8.49176982e+136]]\n",
      "\n",
      "  [[8.54511033e-072 4.08340567e+179]\n",
      "   [1.81152936e-152 8.60954358e-043]]\n",
      "\n",
      "  [[3.57280233e-062 7.78045999e-143]\n",
      "   [1.58718589e-319 2.50320809e-308]]]]\n"
     ]
    }
   ],
   "source": [
    "tuple_for_array = (3,3,2,2)\n",
    "array_a = np.ndarray(tuple_for_array); print(array_a)"
   ]
  },
  {
   "cell_type": "code",
   "execution_count": 33,
   "metadata": {},
   "outputs": [],
   "source": [
    "arr = np.ndarray((5,3,2))"
   ]
  },
  {
   "cell_type": "code",
   "execution_count": 34,
   "metadata": {},
   "outputs": [
    {
     "name": "stdout",
     "output_type": "stream",
     "text": [
      "[[[ 0.00000000e+000 -2.68678931e+154]\n",
      "  [ 1.08694442e-322  0.00000000e+000]\n",
      "  [ 2.12199579e-314  5.02034658e+175]]\n",
      "\n",
      " [[ 4.76326335e-038  2.61017377e-057]\n",
      "  [ 1.00082750e+165  2.87973393e+180]\n",
      "  [ 1.47763641e+248  1.16096346e-028]]\n",
      "\n",
      " [[ 7.69165785e+218  1.35617292e+248]\n",
      "  [ 3.39014783e+175  1.18784868e-075]\n",
      "  [ 2.52823241e-052  6.48853762e+169]]\n",
      "\n",
      " [[ 4.30714220e-096  6.32299154e+233]\n",
      "  [ 6.48224638e+170  5.22411352e+257]\n",
      "  [ 5.74020278e+180  8.37174974e-144]]\n",
      "\n",
      " [[ 1.41529402e+161  9.16651763e-072]\n",
      "  [ 5.38099907e+097  6.38997121e-067]\n",
      "  [ 3.58901542e+126 -1.73060096e-077]]]\n"
     ]
    }
   ],
   "source": [
    "print(arr)"
   ]
  },
  {
   "cell_type": "code",
   "execution_count": 24,
   "metadata": {},
   "outputs": [
    {
     "data": {
      "text/plain": [
       "(5, 3, 2)"
      ]
     },
     "execution_count": 24,
     "metadata": {},
     "output_type": "execute_result"
    }
   ],
   "source": [
    "arr.shape"
   ]
  },
  {
   "cell_type": "code",
   "execution_count": 25,
   "metadata": {},
   "outputs": [
    {
     "data": {
      "text/plain": [
       "3"
      ]
     },
     "execution_count": 25,
     "metadata": {},
     "output_type": "execute_result"
    }
   ],
   "source": [
    "arr.ndim"
   ]
  },
  {
   "cell_type": "code",
   "execution_count": 26,
   "metadata": {},
   "outputs": [
    {
     "data": {
      "text/plain": [
       "dtype('float64')"
      ]
     },
     "execution_count": 26,
     "metadata": {},
     "output_type": "execute_result"
    }
   ],
   "source": [
    "arr.dtype"
   ]
  },
  {
   "cell_type": "code",
   "execution_count": 27,
   "metadata": {},
   "outputs": [
    {
     "data": {
      "text/plain": [
       "'float64'"
      ]
     },
     "execution_count": 27,
     "metadata": {},
     "output_type": "execute_result"
    }
   ],
   "source": [
    "arr.dtype.name"
   ]
  },
  {
   "cell_type": "code",
   "execution_count": 28,
   "metadata": {},
   "outputs": [
    {
     "data": {
      "text/plain": [
       "30"
      ]
     },
     "execution_count": 28,
     "metadata": {},
     "output_type": "execute_result"
    }
   ],
   "source": [
    "arr.size"
   ]
  },
  {
   "cell_type": "markdown",
   "metadata": {},
   "source": [
    "## ndarray\n",
    "### ndarray 차원"
   ]
  },
  {
   "cell_type": "code",
   "execution_count": 53,
   "metadata": {},
   "outputs": [
    {
     "name": "stdout",
     "output_type": "stream",
     "text": [
      "np.array(0)는 0 값을 갖는 <class 'numpy.ndarray'> 타입의 0 차원\n"
     ]
    }
   ],
   "source": [
    "import numpy as np\n",
    "a = np.array(0)\n",
    "print('np.array(0)는 {} 값을 갖는 {} 타입의 {} 차원'.format(a, type(a), a.ndim))      "
   ]
  },
  {
   "cell_type": "code",
   "execution_count": 21,
   "metadata": {},
   "outputs": [
    {
     "name": "stdout",
     "output_type": "stream",
     "text": [
      "값: [1 2 3] / 차원: 1 int64\n"
     ]
    }
   ],
   "source": [
    "a = np.array([1,2,3])\n",
    "print('값:',a, '/ 차원:',a.ndim)"
   ]
  },
  {
   "cell_type": "code",
   "execution_count": 19,
   "metadata": {},
   "outputs": [
    {
     "name": "stdout",
     "output_type": "stream",
     "text": [
      "값: [[1 2 3]\n",
      " [4 5 6]] / 차원: 2\n"
     ]
    }
   ],
   "source": [
    "a = np.array([[1,2,3],[4,5,6]])\n",
    "print('값:',a, '/ 차원:',a.ndim)"
   ]
  },
  {
   "cell_type": "code",
   "execution_count": 20,
   "metadata": {},
   "outputs": [
    {
     "name": "stdout",
     "output_type": "stream",
     "text": [
      "값: [[[1 2 3]\n",
      "  [4 5 6]]\n",
      "\n",
      " [[1 2 3]\n",
      "  [4 5 6]]] / 차원: 3\n"
     ]
    }
   ],
   "source": [
    "a = np.array( [ [[1,2,3],[4,5,6]], \n",
    "               [[1,2,3],[4,5,6]] ] )\n",
    "print('값:',a, '/ 차원:',a.ndim)"
   ]
  },
  {
   "cell_type": "markdown",
   "metadata": {},
   "source": [
    "### ndarray 생성"
   ]
  },
  {
   "cell_type": "code",
   "execution_count": 15,
   "metadata": {},
   "outputs": [
    {
     "name": "stdout",
     "output_type": "stream",
     "text": [
      "[1 2 3 4 5] <class 'numpy.ndarray'>\n"
     ]
    }
   ],
   "source": [
    "a1 = np.array([1,2,3,4,5])\n",
    "print(a1, type(a1))"
   ]
  },
  {
   "cell_type": "code",
   "execution_count": 20,
   "metadata": {},
   "outputs": [
    {
     "name": "stdout",
     "output_type": "stream",
     "text": [
      "[[  6.92022935e-310   6.92022935e-310]\n",
      " [  6.92022409e-310   6.92022409e-310]] <class 'numpy.ndarray'>\n"
     ]
    }
   ],
   "source": [
    "a2 = np.ndarray((2,2))\n",
    "print(a2, type(a2))"
   ]
  },
  {
   "cell_type": "code",
   "execution_count": 17,
   "metadata": {},
   "outputs": [
    {
     "name": "stdout",
     "output_type": "stream",
     "text": [
      "[ 1.  1.  1.] <class 'numpy.ndarray'>\n",
      "[[ 1.  1.  1.]\n",
      " [ 1.  1.  1.]\n",
      " [ 1.  1.  1.]] <class 'numpy.ndarray'>\n"
     ]
    }
   ],
   "source": [
    "a3 = np.ones(3)\n",
    "print(a3, type(a3))\n",
    "a31 = np.ones((3,3))\n",
    "print(a31, type(a31))"
   ]
  },
  {
   "cell_type": "code",
   "execution_count": 25,
   "metadata": {},
   "outputs": [
    {
     "name": "stdout",
     "output_type": "stream",
     "text": [
      "[ 0.  0.  0.] <class 'numpy.ndarray'>\n",
      "[[ 0.  0.  0.]\n",
      " [ 0.  0.  0.]\n",
      " [ 0.  0.  0.]] <class 'numpy.ndarray'>\n"
     ]
    }
   ],
   "source": [
    "a4 = np.zeros(3)\n",
    "print(a4, type(a4))\n",
    "a41 = np.zeros((3,3))\n",
    "print(a41, type(a41))"
   ]
  },
  {
   "cell_type": "code",
   "execution_count": 12,
   "metadata": {},
   "outputs": [
    {
     "name": "stdout",
     "output_type": "stream",
     "text": [
      "[  6.92022935e-310   4.67826868e-310   1.58101007e-322] <class 'numpy.ndarray'>\n",
      "[[  6.92022935e-310   4.67826870e-310   0.00000000e+000]\n",
      " [  0.00000000e+000   0.00000000e+000   0.00000000e+000]\n",
      " [  7.06652082e-096   7.05479222e-308   3.95252517e-322]] <class 'numpy.ndarray'>\n"
     ]
    }
   ],
   "source": [
    "a5 = np.empty(3)\n",
    "print(a5, type(a5))\n",
    "a51 = np.empty((3,3))\n",
    "print(a51, type(a51))"
   ]
  },
  {
   "cell_type": "code",
   "execution_count": 27,
   "metadata": {},
   "outputs": [
    {
     "name": "stdout",
     "output_type": "stream",
     "text": [
      "[[ 1.  0.  0.]\n",
      " [ 0.  1.  0.]\n",
      " [ 0.  0.  1.]] <class 'numpy.ndarray'>\n",
      "[[ 0.  1.  0.]\n",
      " [ 0.  0.  1.]\n",
      " [ 0.  0.  0.]] <class 'numpy.ndarray'>\n"
     ]
    }
   ],
   "source": [
    "a6 = np.eye(3)\n",
    "print(a6, type(a6))\n",
    "a6 = np.eye(3, k=1)\n",
    "print(a6, type(a6))"
   ]
  },
  {
   "cell_type": "code",
   "execution_count": 28,
   "metadata": {},
   "outputs": [
    {
     "name": "stdout",
     "output_type": "stream",
     "text": [
      "[[ 1.  0.  0.]\n",
      " [ 0.  1.  0.]\n",
      " [ 0.  0.  1.]] <class 'numpy.ndarray'>\n"
     ]
    }
   ],
   "source": [
    "a7 = np.identity(3)\n",
    "print(a7, type(a7))"
   ]
  },
  {
   "cell_type": "code",
   "execution_count": 29,
   "metadata": {},
   "outputs": [
    {
     "name": "stdout",
     "output_type": "stream",
     "text": [
      "[ 1.          1.44444444  1.88888889  2.33333333  2.77777778  3.22222222\n",
      "  3.66666667  4.11111111  4.55555556  5.        ] <class 'numpy.ndarray'>\n"
     ]
    }
   ],
   "source": [
    "a8 = np.linspace(1,5,10)\n",
    "print(a8, type(a8))"
   ]
  },
  {
   "cell_type": "code",
   "execution_count": 30,
   "metadata": {},
   "outputs": [
    {
     "name": "stdout",
     "output_type": "stream",
     "text": [
      "[1 2 3 4 5 6 7 8 9] <class 'numpy.ndarray'>\n",
      "[0 1 2 3 4 5 6 7 8 9] <class 'numpy.ndarray'>\n"
     ]
    }
   ],
   "source": [
    "a9 = np.arange(1,10)\n",
    "print(a9, type(a9))\n",
    "a91 = np.arange(10)\n",
    "print(a91, type(a91))"
   ]
  },
  {
   "cell_type": "code",
   "execution_count": 31,
   "metadata": {},
   "outputs": [
    {
     "name": "stdout",
     "output_type": "stream",
     "text": [
      "[ 1.  2.  3.] <class 'numpy.ndarray'>\n"
     ]
    }
   ],
   "source": [
    "a10 = np.float64([1,2,3])\n",
    "print(a10, type(a10))"
   ]
  },
  {
   "cell_type": "code",
   "execution_count": 32,
   "metadata": {},
   "outputs": [
    {
     "name": "stdout",
     "output_type": "stream",
     "text": [
      "[1 2 3] <class 'numpy.ndarray'>\n"
     ]
    }
   ],
   "source": [
    "a10 = np.int32([1,2,3])\n",
    "print(a10, type(a10))"
   ]
  },
  {
   "cell_type": "code",
   "execution_count": 33,
   "metadata": {},
   "outputs": [
    {
     "name": "stdout",
     "output_type": "stream",
     "text": [
      "[ 1.88576026  0.62513821 -0.24684692] <class 'numpy.ndarray'>\n",
      "[[ 0.42634603  0.10531788  0.88228211]\n",
      " [ 0.01707417  0.37577093  0.97184952]] <class 'numpy.ndarray'>\n",
      "[84 56 87 90 33 50] <class 'numpy.ndarray'>\n",
      "[ 0.90671941  0.98058635  0.25551313] <class 'numpy.ndarray'>\n",
      "[ 0.79296798  0.87718523  0.29154009] <class 'numpy.ndarray'>\n",
      "[ 0.98335612  0.44667824  0.53108699] <class 'numpy.ndarray'>\n"
     ]
    }
   ],
   "source": [
    "a11 = np.random.randn(3)\n",
    "print(a11,type(a11))\n",
    "a11 = np.random.rand(2,3)\n",
    "print(a11,type(a11))\n",
    "a11 = np.random.randint(1,99,size=6)\n",
    "print(a11,type(a11))\n",
    "a11 = np.random.ranf(3)\n",
    "print(a11,type(a11))\n",
    "a11 = np.random.random_sample(3)\n",
    "print(a11,type(a11))\n",
    "a11 = np.random.random(3)\n",
    "print(a11,type(a11))"
   ]
  },
  {
   "cell_type": "markdown",
   "metadata": {},
   "source": [
    "### ndarray 형변환"
   ]
  },
  {
   "cell_type": "code",
   "execution_count": 34,
   "metadata": {},
   "outputs": [
    {
     "name": "stdout",
     "output_type": "stream",
     "text": [
      "[1 2 3 4 5 6]\n",
      "<class 'list'> <class 'numpy.ndarray'>\n"
     ]
    }
   ],
   "source": [
    "sample_list = [1,2,3,4,5,6]\n",
    "trans_nd = np.asarray(sample_list)\n",
    "print(trans_nd)\n",
    "print(type(sample_list), type(trans_nd))"
   ]
  },
  {
   "cell_type": "markdown",
   "metadata": {},
   "source": [
    "### ndarray loop"
   ]
  },
  {
   "cell_type": "code",
   "execution_count": 21,
   "metadata": {},
   "outputs": [
    {
     "name": "stdout",
     "output_type": "stream",
     "text": [
      "loop_ex : [[1 2 3]\n",
      " [4 5 6]]\n",
      "loop_ex1: [[ 5  9 13]\n",
      " [17 21 25]]\n"
     ]
    }
   ],
   "source": [
    "loop_ex = np.array([[1,2,3],[4,5,6]])\n",
    "loop_ex1 = loop_ex * 4 + 1\n",
    "print('loop_ex :',loop_ex)\n",
    "print('loop_ex1:',loop_ex1)"
   ]
  },
  {
   "cell_type": "markdown",
   "metadata": {},
   "source": [
    "### ndarray 접근"
   ]
  },
  {
   "cell_type": "code",
   "execution_count": 35,
   "metadata": {},
   "outputs": [
    {
     "name": "stdout",
     "output_type": "stream",
     "text": [
      "[[1 2 3]\n",
      " [4 5 6]\n",
      " [7 8 9]]\n",
      "[1] row get : [4 5 6]\n",
      "[:,1] column get : [2 5 8]\n",
      "[1:,:2] get : [[4 5]\n",
      " [7 8]]\n",
      "(1,2) row*column get : 6\n"
     ]
    }
   ],
   "source": [
    "nd1 = np.array([[1,2,3],[4,5,6],[7,8,9]])\n",
    "print(nd1)\n",
    "print('[1] row get :', nd1[1])\n",
    "print('[:,1] column get :', nd1[:,1])\n",
    "print('[1:,:2] get :', nd1[1:,:2])\n",
    "print('(1,2) row*column get :', nd1[1,2])"
   ]
  },
  {
   "cell_type": "code",
   "execution_count": 36,
   "metadata": {},
   "outputs": [
    {
     "name": "stdout",
     "output_type": "stream",
     "text": [
      "[58 85 98 13 47 48 78 94 45 26]\n",
      "[13 47]\n",
      "[58 85 98 11 11 48 78 94 45 26]\n"
     ]
    }
   ],
   "source": [
    "nd2 = np.random.randint(1,99,10)\n",
    "print(nd2)\n",
    "print(nd2[3:5])\n",
    "nd2[3:5] = 11\n",
    "print(nd2)"
   ]
  },
  {
   "cell_type": "code",
   "execution_count": 37,
   "metadata": {},
   "outputs": [
    {
     "name": "stdout",
     "output_type": "stream",
     "text": [
      "[[1 2 3]\n",
      " [4 5 6]\n",
      " [7 8 9]]\n",
      "[1:,:2] get : [[4 5]\n",
      " [7 8]]\n",
      "[[1 2 3]\n",
      " [0 0 6]\n",
      " [0 0 9]]\n"
     ]
    }
   ],
   "source": [
    "nd1 = np.array([[1,2,3],[4,5,6],[7,8,9]])\n",
    "print(nd1)\n",
    "print('[1:,:2] get :', nd1[1:,:2])\n",
    "nd1[1:,:2] = 0\n",
    "print(nd1)"
   ]
  },
  {
   "cell_type": "markdown",
   "metadata": {},
   "source": [
    "### ndarray 조건 조회"
   ]
  },
  {
   "cell_type": "code",
   "execution_count": 38,
   "metadata": {},
   "outputs": [
    {
     "name": "stdout",
     "output_type": "stream",
     "text": [
      "[25 34 12 88 72 65 35 26 78 26]\n",
      "[False False False  True  True  True False False  True False]\n",
      "[88 72 65 78]\n",
      "[88 72 65 78]\n",
      "[25 34 12  0  0  0 35 26  0 26]\n"
     ]
    }
   ],
   "source": [
    "nd3 = np.random.randint(1,99,10)\n",
    "print(nd3)\n",
    "nd31 = nd3 > 50\n",
    "print(nd31)\n",
    "print(nd3[nd31])\n",
    "\n",
    "print(nd3[nd3 > 50])\n",
    "\n",
    "nd3[nd3 > 50] = 0\n",
    "print(nd3)"
   ]
  },
  {
   "cell_type": "markdown",
   "metadata": {},
   "source": [
    "### ndarray 사칙연산"
   ]
  },
  {
   "cell_type": "code",
   "execution_count": 39,
   "metadata": {},
   "outputs": [
    {
     "name": "stdout",
     "output_type": "stream",
     "text": [
      "[[1 2]\n",
      " [3 4]] <class 'numpy.ndarray'>\n",
      "[[5 6]\n",
      " [7 8]] <class 'numpy.ndarray'>\n",
      "[[ 6  8]\n",
      " [10 12]]\n",
      "[[4 4]\n",
      " [4 4]]\n",
      "[[ 5 12]\n",
      " [21 32]]\n",
      "[[ 0.2         0.33333333]\n",
      " [ 0.42857143  0.5       ]]\n"
     ]
    }
   ],
   "source": [
    "nd4 = np.array([[1,2],[3,4]])\n",
    "nd5 = np.array([[5,6],[7,8]])\n",
    "print(nd4, type(nd4))\n",
    "print(nd5, type(nd5))\n",
    "print(nd4+nd5)\n",
    "print(nd5-nd4)\n",
    "print(nd4*nd5)\n",
    "print(nd4/nd5)"
   ]
  },
  {
   "cell_type": "markdown",
   "metadata": {},
   "source": [
    "### matrix 사칙연산"
   ]
  },
  {
   "cell_type": "code",
   "execution_count": 56,
   "metadata": {},
   "outputs": [
    {
     "name": "stdout",
     "output_type": "stream",
     "text": [
      "[[1 2]\n",
      " [3 4]] <class 'numpy.matrixlib.defmatrix.matrix'>\n",
      "[[5 6]\n",
      " [7 8]] <class 'numpy.matrixlib.defmatrix.matrix'>\n",
      "[[ 6  8]\n",
      " [10 12]]\n",
      "[[4 4]\n",
      " [4 4]]\n",
      "[[19 22]\n",
      " [43 50]]\n",
      "[[0.2        0.33333333]\n",
      " [0.42857143 0.5       ]]\n"
     ]
    }
   ],
   "source": [
    "nd4 = np.matrix([[1,2],[3,4]])\n",
    "nd5 = np.matrix([[5,6],[7,8]])\n",
    "print(nd4, type(nd4))\n",
    "print(nd5, type(nd5))\n",
    "print(nd4+nd5)\n",
    "print(nd5-nd4)\n",
    "print(nd4*nd5)\n",
    "print(nd4/nd5)"
   ]
  },
  {
   "cell_type": "markdown",
   "metadata": {},
   "source": [
    "### ndarray, matrix dot 연산"
   ]
  },
  {
   "cell_type": "code",
   "execution_count": 41,
   "metadata": {},
   "outputs": [
    {
     "name": "stdout",
     "output_type": "stream",
     "text": [
      "[[1 2]\n",
      " [3 4]]\n",
      "[[5 6]\n",
      " [7 8]]\n",
      "[[19 22]\n",
      " [43 50]]\n"
     ]
    }
   ],
   "source": [
    "nd4 = np.array([[1,2],[3,4]])\n",
    "nd5 = np.array([[5,6],[7,8]])\n",
    "print(nd4)\n",
    "print(nd5)\n",
    "print(nd4.dot(nd5))"
   ]
  },
  {
   "cell_type": "code",
   "execution_count": 42,
   "metadata": {},
   "outputs": [
    {
     "name": "stdout",
     "output_type": "stream",
     "text": [
      "[[1 2]\n",
      " [3 4]]\n",
      "[[5 6]\n",
      " [7 8]]\n",
      "[[19 22]\n",
      " [43 50]]\n",
      "[[19 22]\n",
      " [43 50]]\n"
     ]
    }
   ],
   "source": [
    "nd4 = np.matrix([[1,2],[3,4]])\n",
    "nd5 = np.matrix([[5,6],[7,8]])\n",
    "print(nd4)\n",
    "print(nd5)\n",
    "print(nd4.dot(nd5))\n",
    "print(nd4*(nd5))"
   ]
  },
  {
   "cell_type": "markdown",
   "metadata": {},
   "source": [
    "### T(전치)"
   ]
  },
  {
   "cell_type": "code",
   "execution_count": 55,
   "metadata": {},
   "outputs": [
    {
     "name": "stdout",
     "output_type": "stream",
     "text": [
      "[[1 2]\n",
      " [3 4]]\n",
      "[[1 3]\n",
      " [2 4]]\n"
     ]
    }
   ],
   "source": [
    "nd4 = np.array([[1,2],[3,4]])\n",
    "print(nd4)\n",
    "print(nd4.T)"
   ]
  },
  {
   "cell_type": "markdown",
   "metadata": {},
   "source": [
    "### axis - 2 dim sum example"
   ]
  },
  {
   "cell_type": "code",
   "execution_count": 43,
   "metadata": {},
   "outputs": [
    {
     "name": "stdout",
     "output_type": "stream",
     "text": [
      "[[1 2]\n",
      " [3 4]]\n",
      "sum : 10\n",
      "axis 0 sum : [4 6]\n",
      "axis 1 sum : [3 7]\n"
     ]
    }
   ],
   "source": [
    "nd4 = np.array([[1,2],[3,4]])\n",
    "print(nd4)\n",
    "print('sum :',np.sum(nd4))\n",
    "print('axis 0 sum :',np.sum(nd4, axis=0))\n",
    "print('axis 1 sum :',np.sum(nd4, axis=1))"
   ]
  },
  {
   "cell_type": "markdown",
   "metadata": {},
   "source": [
    "### axis - 3 dim sum example"
   ]
  },
  {
   "cell_type": "code",
   "execution_count": 80,
   "metadata": {},
   "outputs": [
    {
     "data": {
      "text/plain": [
       "array([[[ 0,  1,  2,  3],\n",
       "        [ 4,  5,  6,  7],\n",
       "        [ 8,  9, 10, 11]],\n",
       "\n",
       "       [[12, 13, 14, 15],\n",
       "        [16, 17, 18, 19],\n",
       "        [20, 21, 22, 23]]])"
      ]
     },
     "execution_count": 80,
     "metadata": {},
     "output_type": "execute_result"
    }
   ],
   "source": [
    "nd6 = np.arange(0, 24).reshape([2,3,4])\n",
    "nd6"
   ]
  },
  {
   "cell_type": "code",
   "execution_count": 81,
   "metadata": {},
   "outputs": [
    {
     "data": {
      "text/plain": [
       "array([[12, 14, 16, 18],\n",
       "       [20, 22, 24, 26],\n",
       "       [28, 30, 32, 34]])"
      ]
     },
     "execution_count": 81,
     "metadata": {},
     "output_type": "execute_result"
    }
   ],
   "source": [
    "nd6.sum(axis=0)"
   ]
  },
  {
   "cell_type": "code",
   "execution_count": 82,
   "metadata": {},
   "outputs": [
    {
     "data": {
      "text/plain": [
       "array([[12, 15, 18, 21],\n",
       "       [48, 51, 54, 57]])"
      ]
     },
     "execution_count": 82,
     "metadata": {},
     "output_type": "execute_result"
    }
   ],
   "source": [
    "nd6.sum(axis=1)"
   ]
  },
  {
   "cell_type": "code",
   "execution_count": 83,
   "metadata": {
    "scrolled": true
   },
   "outputs": [
    {
     "data": {
      "text/plain": [
       "array([[ 6, 22, 38],\n",
       "       [54, 70, 86]])"
      ]
     },
     "execution_count": 83,
     "metadata": {},
     "output_type": "execute_result"
    }
   ],
   "source": [
    "nd6.sum(axis=2)"
   ]
  },
  {
   "cell_type": "code",
   "execution_count": 45,
   "metadata": {},
   "outputs": [
    {
     "name": "stdout",
     "output_type": "stream",
     "text": [
      "[[[1 2]\n",
      "  [3 4]]\n",
      "\n",
      " [[5 6]\n",
      "  [7 8]]]\n",
      "sum : 36\n",
      "axis 0 sum : [[ 6  8]\n",
      " [10 12]]\n",
      "axis 1 sum : [[ 4  6]\n",
      " [12 14]]\n",
      "axis 2 sum : [[ 3  7]\n",
      " [11 15]]\n"
     ]
    }
   ],
   "source": [
    "nd6 = np.arange(1,9).reshape(2,2,2)\n",
    "print(nd6)\n",
    "print('sum :',np.sum(nd6))\n",
    "print('axis 0 sum :',np.sum(nd6, axis=0))\n",
    "print('axis 1 sum :',np.sum(nd6, axis=1))\n",
    "print('axis 2 sum :',np.sum(nd6, axis=2))"
   ]
  },
  {
   "cell_type": "markdown",
   "metadata": {},
   "source": [
    "### inner 함수"
   ]
  },
  {
   "cell_type": "code",
   "execution_count": 8,
   "metadata": {},
   "outputs": [
    {
     "name": "stdout",
     "output_type": "stream",
     "text": [
      "[1 2 3] (3,)\n",
      "[4 5 6] (3,)\n",
      "inner : 32\n",
      "dot T : 32\n"
     ]
    }
   ],
   "source": [
    "nd7 = np.array( [1,2,3] )\n",
    "nd8 = np.array( [4,5,6] )\n",
    "print(nd7, nd7.shape)\n",
    "print(nd8, nd8.shape)\n",
    "print('inner :',np.inner(nd7,nd8))\n",
    "print('dot T :',np.dot(nd7,nd8))"
   ]
  },
  {
   "cell_type": "code",
   "execution_count": 11,
   "metadata": {},
   "outputs": [
    {
     "name": "stdout",
     "output_type": "stream",
     "text": [
      "[[1 2 3]\n",
      " [4 5 6]] (2, 3)\n",
      "[[4 3 2]\n",
      " [1 5 6]\n",
      " [4 3 2]\n",
      " [1 5 6]] (4, 3)\n",
      "inner : [[16 29 16 29]\n",
      " [43 65 43 65]]\n",
      "second T : [[16 29 16 29]\n",
      " [43 65 43 65]]\n"
     ]
    }
   ],
   "source": [
    "nd7 = np.array( [ [1,2,3], [4,5,6] ] )\n",
    "nd8 = np.array( [ [4,3,2], [1,5,6], [4,3,2], [1,5,6] ] )\n",
    "print(nd7, nd7.shape)\n",
    "print(nd8, nd8.shape)\n",
    "print('inner :',np.inner(nd7,nd8))\n",
    "print('second T :',np.dot(nd7,nd8.T))"
   ]
  },
  {
   "cell_type": "markdown",
   "metadata": {},
   "source": [
    "### outer"
   ]
  },
  {
   "cell_type": "code",
   "execution_count": 12,
   "metadata": {},
   "outputs": [
    {
     "name": "stdout",
     "output_type": "stream",
     "text": [
      "[1 2 3] (3,)\n",
      "[4 5 6] (3,)\n",
      "outer : [[ 4  5  6]\n",
      " [ 8 10 12]\n",
      " [12 15 18]]\n",
      "cross : [-3  6 -3]\n"
     ]
    }
   ],
   "source": [
    "nd7 = np.array( [1,2,3] )\n",
    "nd8 = np.array( [4,5,6] )\n",
    "print(nd7, nd7.shape)\n",
    "print(nd8, nd8.shape)\n",
    "print('outer :',np.outer(nd7,nd8))\n",
    "print('cross :',np.cross(nd7,nd8))"
   ]
  },
  {
   "cell_type": "code",
   "execution_count": 13,
   "metadata": {},
   "outputs": [
    {
     "name": "stdout",
     "output_type": "stream",
     "text": [
      "[[1 2 3]\n",
      " [4 5 6]] (2, 3)\n",
      "[[4 3 2]\n",
      " [1 5 6]] (2, 3)\n",
      "outer : [[ 4  3  2  1  5  6]\n",
      " [ 8  6  4  2 10 12]\n",
      " [12  9  6  3 15 18]\n",
      " [16 12  8  4 20 24]\n",
      " [20 15 10  5 25 30]\n",
      " [24 18 12  6 30 36]]\n",
      "cross : [[ -5  10  -5]\n",
      " [  0 -18  15]]\n"
     ]
    }
   ],
   "source": [
    "nd7 = np.array( [ [1,2,3], [4,5,6] ] )\n",
    "nd8 = np.array( [ [4,3,2], [1,5,6] ] )\n",
    "print(nd7, nd7.shape)\n",
    "print(nd8, nd8.shape)\n",
    "print('outer :',np.outer(nd7,nd8))\n",
    "print('cross :',np.cross(nd7,nd8))"
   ]
  },
  {
   "cell_type": "markdown",
   "metadata": {},
   "source": [
    "### numpy 함수"
   ]
  },
  {
   "cell_type": "code",
   "execution_count": 14,
   "metadata": {},
   "outputs": [
    {
     "name": "stdout",
     "output_type": "stream",
     "text": [
      "[-1  7  1  4 -4]\n",
      "[1 7 1 4 4]\n",
      "[-1  1  1  1 -1]\n",
      "[-1  7  1  4 -4]\n"
     ]
    }
   ],
   "source": [
    "nd9 = np.random.randint(-10,10,5)\n",
    "print(nd9)\n",
    "print(np.abs(nd9))\n",
    "si = np.sign(nd9)\n",
    "print(si)\n",
    "print(np.abs(nd9) * si)"
   ]
  },
  {
   "cell_type": "code",
   "execution_count": 51,
   "metadata": {},
   "outputs": [
    {
     "name": "stdout",
     "output_type": "stream",
     "text": [
      "[5 2 8 2 4]\n",
      "[25  4 64  4 16]\n",
      "[ 2.23606798  1.41421356  2.82842712  1.41421356  2.        ]\n",
      "[125   8 512   8  64]\n",
      "[ 25.49509757   4.47213595  64.49806199   4.47213595  16.4924225 ]\n"
     ]
    }
   ],
   "source": [
    "f1 = np.random.randint(1,10,5)\n",
    "print(f1)\n",
    "print(np.square(f1))\n",
    "print(np.sqrt(f1))\n",
    "print(np.power(f1, 3))\n",
    "print(np.hypot(f1, np.square(f1)))"
   ]
  },
  {
   "cell_type": "code",
   "execution_count": 52,
   "metadata": {},
   "outputs": [
    {
     "name": "stdout",
     "output_type": "stream",
     "text": [
      "[  7.70897982  -4.47915609  12.79167955  -4.43478021  10.99406411]\n",
      "[  8.  -4.  13.  -4.  11.]\n",
      "[  7.  -5.  12.  -5.  10.]\n",
      "[  8.  -4.  13.  -4.  11.]\n"
     ]
    }
   ],
   "source": [
    "f2 = np.random.randn(5)\n",
    "f2 = f2*10\n",
    "print(f2)\n",
    "print(np.ceil(f2))\n",
    "print(np.floor(f2))\n",
    "print(np.rint(f2))"
   ]
  },
  {
   "cell_type": "code",
   "execution_count": 53,
   "metadata": {},
   "outputs": [
    {
     "name": "stdout",
     "output_type": "stream",
     "text": [
      "[83 93  8 83  7]\n",
      "[2 1 3 6 4]\n",
      "add :  [85 94 11 89 11]\n",
      "subtract :  [81 92  5 77  3]\n",
      "multiply :  [166  93  24 498  28]\n",
      "divide :  [ 41.5         93.           2.66666667  13.83333333   1.75      ]\n",
      "mod :  [1 0 2 5 3]\n"
     ]
    }
   ],
   "source": [
    "f3 = np.random.randint(1,100,5)\n",
    "f4 = np.random.randint(1,10,5)\n",
    "print(f3)\n",
    "print(f4)\n",
    "print('add : ', np.add(f3,f4))\n",
    "print('subtract : ', np.subtract(f3,f4))\n",
    "print('multiply : ', np.multiply(f3,f4))\n",
    "print('divide : ', np.divide(f3,f4))\n",
    "print('mod : ', np.mod(f3,f4))"
   ]
  },
  {
   "cell_type": "code",
   "execution_count": 54,
   "metadata": {},
   "outputs": [
    {
     "name": "stdout",
     "output_type": "stream",
     "text": [
      "[1 2 1 2 1]\n",
      "True\n",
      "True\n"
     ]
    }
   ],
   "source": [
    "f5 = np.random. randint(0,5,5)\n",
    "print(f5)\n",
    "print(np.any(f5)) # True가 하나라도 존재\n",
    "print(np.all(f5)) # 전체가 True가 아님 0 존재"
   ]
  },
  {
   "cell_type": "code",
   "execution_count": 55,
   "metadata": {},
   "outputs": [
    {
     "name": "stdout",
     "output_type": "stream",
     "text": [
      "[1 3 4 1 1]\n",
      "[0 4 1 2 2]\n",
      "[False False False False False]\n",
      "False\n",
      "False\n"
     ]
    }
   ],
   "source": [
    "f5 = np.random. randint(0,5,5)\n",
    "f6 = np.random. randint(0,5,5)\n",
    "print(f5)\n",
    "print(f6)\n",
    "f7 = np.equal(f5,f6)\n",
    "print(f7)\n",
    "print(np.any(f7)) # True가 하나라도 존재\n",
    "print(np.all(f7)) # 전체가 True가 아님 0 존재"
   ]
  },
  {
   "cell_type": "code",
   "execution_count": 56,
   "metadata": {},
   "outputs": [
    {
     "name": "stdout",
     "output_type": "stream",
     "text": [
      "[-2  3 -5 -4 -5 -8 -9  7 -9  6]\n",
      "[-1  1 -1 -1 -1 -1 -1  1 -1  1]\n",
      "[-1  1 -1 -1 -1 -1 -1  1 -1  1]\n"
     ]
    }
   ],
   "source": [
    "f8 = np.random.randint(-10,10,10)\n",
    "print(f8)\n",
    "print(np.where(f8 == 0, 0, np.where(f8 > 0, 1, -1)))\n",
    "print(np.sign(f8))"
   ]
  },
  {
   "cell_type": "code",
   "execution_count": 54,
   "metadata": {},
   "outputs": [
    {
     "name": "stdout",
     "output_type": "stream",
     "text": [
      "[[0. 1. 2.]\n",
      " [3. 4. 5.]\n",
      " [6. 7. 8.]]\n",
      "(array([2, 2, 2]), array([0, 1, 2]))\n"
     ]
    },
    {
     "ename": "IndexError",
     "evalue": "index 2 is out of bounds for axis 0 with size 2",
     "output_type": "error",
     "traceback": [
      "\u001b[0;31m---------------------------------------------------------------------------\u001b[0m",
      "\u001b[0;31mIndexError\u001b[0m                                Traceback (most recent call last)",
      "\u001b[0;32m<ipython-input-54-27592ac74924>\u001b[0m in \u001b[0;36m<module>\u001b[0;34m()\u001b[0m\n\u001b[1;32m      2\u001b[0m \u001b[0mprint\u001b[0m\u001b[0;34m(\u001b[0m\u001b[0mf9\u001b[0m\u001b[0;34m)\u001b[0m\u001b[0;34m\u001b[0m\u001b[0m\n\u001b[1;32m      3\u001b[0m \u001b[0mprint\u001b[0m\u001b[0;34m(\u001b[0m\u001b[0mnp\u001b[0m\u001b[0;34m.\u001b[0m\u001b[0mwhere\u001b[0m\u001b[0;34m(\u001b[0m \u001b[0mf9\u001b[0m \u001b[0;34m>\u001b[0m \u001b[0;36m5\u001b[0m \u001b[0;34m)\u001b[0m\u001b[0;34m)\u001b[0m\u001b[0;34m\u001b[0m\u001b[0m\n\u001b[0;32m----> 4\u001b[0;31m \u001b[0mprint\u001b[0m\u001b[0;34m(\u001b[0m\u001b[0mx\u001b[0m\u001b[0;34m[\u001b[0m\u001b[0mnp\u001b[0m\u001b[0;34m.\u001b[0m\u001b[0mwhere\u001b[0m\u001b[0;34m(\u001b[0m \u001b[0mf9\u001b[0m \u001b[0;34m>\u001b[0m \u001b[0;36m3.0\u001b[0m \u001b[0;34m)\u001b[0m\u001b[0;34m]\u001b[0m\u001b[0;34m)\u001b[0m  \u001b[0;31m# Note: result is 1D.\u001b[0m\u001b[0;34m\u001b[0m\u001b[0m\n\u001b[0m\u001b[1;32m      5\u001b[0m \u001b[0mprint\u001b[0m\u001b[0;34m(\u001b[0m\u001b[0mnp\u001b[0m\u001b[0;34m.\u001b[0m\u001b[0mwhere\u001b[0m\u001b[0;34m(\u001b[0m\u001b[0mf9\u001b[0m \u001b[0;34m<\u001b[0m \u001b[0;36m5\u001b[0m\u001b[0;34m,\u001b[0m \u001b[0mf9\u001b[0m\u001b[0;34m,\u001b[0m \u001b[0;34m-\u001b[0m\u001b[0;36m1\u001b[0m\u001b[0;34m)\u001b[0m \u001b[0;34m)\u001b[0m  \u001b[0;31m# Note: broadcasting.\u001b[0m\u001b[0;34m\u001b[0m\u001b[0m\n",
      "\u001b[0;31mIndexError\u001b[0m: index 2 is out of bounds for axis 0 with size 2"
     ]
    }
   ],
   "source": [
    "f9 = np.arange(9.).reshape(3, 3)\n",
    "print(f9)\n",
    "print(np.where( f9 > 5 ))\n",
    "print(x[np.where( f9 > 3.0 )])  # Note: result is 1D. \n",
    "print(np.where(f9 < 5, f9, -1) )  # Note: broadcasting. "
   ]
  },
  {
   "cell_type": "code",
   "execution_count": 73,
   "metadata": {},
   "outputs": [
    {
     "name": "stdout",
     "output_type": "stream",
     "text": [
      "[6 6 9 9 3]\n",
      "[3 6 9]\n",
      "[3 1 4]\n",
      "in1d : [ True False False]\n",
      "union1d : [1 3 4 6 9]\n",
      "intersect1d : [3]\n",
      "setdiff1d : [1 4]\n",
      "setxor1d : [1 4 6 9]\n"
     ]
    }
   ],
   "source": [
    "f10 = np.random.randint(1,10,5)\n",
    "f11 = np.random.randint(1,5,3)\n",
    "print(f10)\n",
    "f10u = np.unique(f10)\n",
    "print(f10u)\n",
    "print(f11)\n",
    "print('in1d :',np.in1d(f11,f10u))\n",
    "print('union1d :',np.union1d(f11,f10u))\n",
    "print('intersect1d :',np.intersect1d(f11,f10u))\n",
    "print('setdiff1d :',np.setdiff1d(f11,f10u))\n",
    "print('setxor1d :',np.setxor1d(f11,f10u))"
   ]
  },
  {
   "cell_type": "code",
   "execution_count": 104,
   "metadata": {},
   "outputs": [
    {
     "name": "stdout",
     "output_type": "stream",
     "text": [
      "[[1 2 3]\n",
      " [4 5 6]]\n",
      "flatten : [1 2 3 4 5 6]\n",
      "ravel : [1 2 3 4 5 6]\n",
      "reshape(6) : [1 2 3 4 5 6]\n",
      "reshape(3,2) : [[1 2]\n",
      " [3 4]\n",
      " [5 6]]\n"
     ]
    }
   ],
   "source": [
    "r1 = np.arange(1,7).reshape(2,3)\n",
    "print(r1)\n",
    "print('flatten :', r1.flatten())\n",
    "print('ravel :', r1.ravel())\n",
    "print('reshape(6) :', r1.reshape(6))\n",
    "print('reshape(3,2) :', r1.reshape(3,2))"
   ]
  },
  {
   "cell_type": "code",
   "execution_count": 140,
   "metadata": {},
   "outputs": [
    {
     "name": "stdout",
     "output_type": "stream",
     "text": [
      "[1 2 3 4]\n",
      "[5 6 7 8]\n",
      "[ 9 10]\n",
      "[array([1, 2, 3, 4]) array([5, 6, 7, 8]) array([ 9, 10])]\n",
      "[ 1  2  3  4  5  6  7  8  9 10]\n",
      "[ 1  2  3  4  5  6  7  8  9 10]\n"
     ]
    }
   ],
   "source": [
    "c2 = np.arange(1,5)\n",
    "c3 = np.arange(5,9)\n",
    "c4 = np.arange(9,11)\n",
    "c5 = np.array((c2,c3,c4))\n",
    "print(c2)\n",
    "print(c3)\n",
    "print(c4)\n",
    "print(c5)\n",
    "print(np.concatenate((c2,c3,c4)))\n",
    "print(np.concatenate(c5))"
   ]
  },
  {
   "cell_type": "code",
   "execution_count": 141,
   "metadata": {},
   "outputs": [
    {
     "name": "stdout",
     "output_type": "stream",
     "text": [
      "[ 1  2  3  4  5  6  7  8  9 10]\n",
      "[ 6  7  8  9 10 11 12 13 14 15]\n",
      "[[ 1  2  3  4  5]\n",
      " [ 6  7  8  9 10]]\n",
      "[[ 6  7  8  9 10]\n",
      " [11 12 13 14 15]]\n",
      "[[ 1  2  3  4  5]\n",
      " [ 6  7  8  9 10]\n",
      " [ 6  7  8  9 10]\n",
      " [11 12 13 14 15]]\n",
      "[[ 1  2  3  4  5  6  7  8  9 10]\n",
      " [ 6  7  8  9 10 11 12 13 14 15]]\n"
     ]
    }
   ],
   "source": [
    "c6 = np.concatenate(c5)\n",
    "c7 = c6 + 5\n",
    "print(c6)\n",
    "print(c7)\n",
    "c6 = c6.reshape(2,5)\n",
    "c7 = c7.reshape(2,5)\n",
    "print(c6)\n",
    "print(c7)\n",
    "\n",
    "\n",
    "print(np.concatenate((c6,c7)))\n",
    "print(np.concatenate((c6,c7),axis=1))"
   ]
  },
  {
   "cell_type": "markdown",
   "metadata": {},
   "source": [
    "## array save and load"
   ]
  },
  {
   "cell_type": "code",
   "execution_count": 40,
   "metadata": {},
   "outputs": [
    {
     "name": "stdout",
     "output_type": "stream",
     "text": [
      "[[  6.92022935e-310   4.67826867e-310]\n",
      " [  0.00000000e+000   0.00000000e+000]\n",
      " [  0.00000000e+000   0.00000000e+000]\n",
      " [  6.92022935e-310   1.63041663e-322]\n",
      " [  4.67826870e-310   4.67826867e-310]]\n"
     ]
    }
   ],
   "source": [
    "save_arr = np.ndarray((5,2))\n",
    "print(save_arr)"
   ]
  },
  {
   "cell_type": "code",
   "execution_count": 61,
   "metadata": {},
   "outputs": [],
   "source": [
    "np.save('./save_arr',save_arr)"
   ]
  },
  {
   "cell_type": "code",
   "execution_count": 62,
   "metadata": {},
   "outputs": [],
   "source": [
    "load_arr = np.load('./save_arr.npy')"
   ]
  },
  {
   "cell_type": "code",
   "execution_count": 63,
   "metadata": {},
   "outputs": [
    {
     "data": {
      "text/plain": [
       "array([[  6.92022935e-310,   4.67826867e-310],\n",
       "       [  0.00000000e+000,   0.00000000e+000],\n",
       "       [  0.00000000e+000,   0.00000000e+000],\n",
       "       [  6.92022935e-310,   1.63041663e-322],\n",
       "       [  4.67826870e-310,   4.67826867e-310]])"
      ]
     },
     "execution_count": 63,
     "metadata": {},
     "output_type": "execute_result"
    }
   ],
   "source": [
    "load_arr"
   ]
  },
  {
   "cell_type": "code",
   "execution_count": 64,
   "metadata": {},
   "outputs": [
    {
     "name": "stdout",
     "output_type": "stream",
     "text": [
      "[[  6.92022935e-310   4.67826867e-310]\n",
      " [  0.00000000e+000   0.00000000e+000]\n",
      " [  0.00000000e+000   0.00000000e+000]\n",
      " [  6.92022935e-310   1.63041663e-322]\n",
      " [  4.67826870e-310   4.67826867e-310]]\n",
      "[[  6.92022935e-310   4.67826859e-310]\n",
      " [  0.00000000e+000   0.00000000e+000]\n",
      " [  0.00000000e+000   0.00000000e+000]\n",
      " [  3.16202013e-322   3.95252517e-322]\n",
      " [  4.67826859e-310   0.00000000e+000]]\n"
     ]
    }
   ],
   "source": [
    "save_arr1 = np.ndarray((5,2))\n",
    "save_arr2 = np.ndarray((5,2))\n",
    "print(save_arr1)\n",
    "print(save_arr2)"
   ]
  },
  {
   "cell_type": "code",
   "execution_count": 67,
   "metadata": {},
   "outputs": [],
   "source": [
    "np.savez('./save_arr',save_arr1, save_arr2)"
   ]
  },
  {
   "cell_type": "code",
   "execution_count": 69,
   "metadata": {},
   "outputs": [
    {
     "data": {
      "text/plain": [
       "['arr_0', 'arr_1']"
      ]
     },
     "execution_count": 69,
     "metadata": {},
     "output_type": "execute_result"
    }
   ],
   "source": [
    "load_arr = np.load('./save_arr.npz')\n",
    "load_arr.files"
   ]
  },
  {
   "cell_type": "code",
   "execution_count": 72,
   "metadata": {
    "scrolled": true
   },
   "outputs": [
    {
     "data": {
      "text/plain": [
       "array([[  6.92022935e-310,   4.67826867e-310],\n",
       "       [  0.00000000e+000,   0.00000000e+000],\n",
       "       [  0.00000000e+000,   0.00000000e+000],\n",
       "       [  6.92022935e-310,   1.63041663e-322],\n",
       "       [  4.67826870e-310,   4.67826867e-310]])"
      ]
     },
     "execution_count": 72,
     "metadata": {},
     "output_type": "execute_result"
    }
   ],
   "source": [
    "load_arr['arr_0']"
   ]
  },
  {
   "cell_type": "code",
   "execution_count": null,
   "metadata": {},
   "outputs": [],
   "source": []
  }
 ],
 "metadata": {
  "kernelspec": {
   "display_name": "Python 3",
   "language": "python",
   "name": "python3"
  },
  "language_info": {
   "codemirror_mode": {
    "name": "ipython",
    "version": 3
   },
   "file_extension": ".py",
   "mimetype": "text/x-python",
   "name": "python",
   "nbconvert_exporter": "python",
   "pygments_lexer": "ipython3",
   "version": "3.6.5"
  }
 },
 "nbformat": 4,
 "nbformat_minor": 2
}
