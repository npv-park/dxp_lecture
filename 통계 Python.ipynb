{
 "cells": [
  {
   "cell_type": "markdown",
   "metadata": {},
   "source": [
    "---------------------------------------------------------------------------------------------<br>\n",
    "문제1 : 모분산($\\sigma ^{ 2 }$)이 알려진 단일표본(One-Sample)의 모평균( $\\mu$ ) 추론\n",
    "- 문제로부터 알수있는 내용 <br>\n",
    "  n = 16 <br>\n",
    "  $\\bar { X }  = 50.65$ <br>\n",
    "  $\\sigma ^{ 2 } = { 0.9 }^{ 2 } $\n",
    "  \n",
    "  \n",
    "- 검정가설 및 유의수준 설정<br>\n",
    "  $ H_0:\\mu=50, H_1:\\mu\\neq50$<br>\n",
    "  (Significant Level) $\\alpha =0.05$<br>"
   ]
  },
  {
   "cell_type": "code",
   "execution_count": 12,
   "metadata": {
    "ExecuteTime": {
     "end_time": "2019-07-12T12:34:30.358005Z",
     "start_time": "2019-07-12T12:34:30.347986Z"
    }
   },
   "outputs": [
    {
     "name": "stdout",
     "output_type": "stream",
     "text": [
      "검정통계량 Z: 2.889\n",
      "P-Value     : 0.004\n",
      "기각역      : 검정통계량 Z 의 절대값 > 1.96\n",
      "==================================================\n",
      "판단 - 기각역\n",
      "  : 검정통계량이 기각역에 속하므로 귀무가설을 기각할 수 있다.\n",
      "판단 - 유의확률\n",
      "  : 유의확률 값이 유의수준(0.05)보다 작으므로 귀무가설을 기각할 수 있다.\n"
     ]
    }
   ],
   "source": [
    "#모분산이 알려져있으므로, z-test를 수행,\n",
    "#검정통계량 z 와 유의확률(P-value) 산출\n",
    "\n",
    "import numpy as np\n",
    "from scipy.stats import norm\n",
    "\n",
    "x_bar = 50.65\n",
    "mu_zero = 50\n",
    "population_std = 0.9\n",
    "NumOfExperiment= 16\n",
    "alpha = 0.05\n",
    "\n",
    "# 검정통계량\n",
    "test_stat_z = (x_bar - mu_zero) / (population_std / np.sqrt(NumOfExperiment))\n",
    "\n",
    "# P-value\n",
    "P_Value = (1- norm.cdf(test_stat_z)) * 2 # 양측검정\n",
    "\n",
    "# 기각역\n",
    "reject_lowerBound = norm.ppf(q = alpha/2, loc = 0, scale = 1)\n",
    "reject_upperBound = norm.ppf(q = 1-(alpha/2), loc = 0, scale = 1)\n",
    "\n",
    "print(\"검정통계량 Z: {}\".format(round(test_stat_z,3)))\n",
    "print(\"P-Value     : {}\".format(round(P_Value,3)))\n",
    "print(\"기각역      : 검정통계량 Z 의 절대값 > {}\".format(round(reject_upperBound, 3)))\n",
    "print('=' * 50)\n",
    "\n",
    "print(\"판단 - 기각역\")\n",
    "if np.abs(test_stat_z) > reject_upperBound:\n",
    "    print(\"  : 검정통계량이 기각역에 속하므로 귀무가설을 기각할 수 있다.\")\n",
    "else:\n",
    "    print(\"  : 귀무가설을 기각할 충분한 근거가 없다.\")\n",
    "\n",
    "print(\"판단 - 유의확률\")\n",
    "if P_Value < alpha:\n",
    "    print(\"  : 유의확률 값이 유의수준({})보다 작으므로 귀무가설을 기각할 수 있다.\".format(alpha))\n",
    "else:\n",
    "    print(\"  : 귀무가설을 기각할 충분한 근거가 없다.\")"
   ]
  },
  {
   "cell_type": "markdown",
   "metadata": {},
   "source": [
    "---------------------------------------------------------------------------------------------<br>\n",
    "문제2 : 모분산($\\sigma ^{ 2 }$)이 알려져 있지 않은 단일표본(One-Sample)의 모평균( $\\mu$ ) 추론\n",
    "- 문제로부터 알수있는 내용 <br>\n",
    "  n = 9 <br>\n",
    "  $\\bar { X }  = 1.303$ <br>\n",
    "  S = 0.669 <br>\n",
    "  \n",
    "  \n",
    "- 검정가설 및 유의수준 설정<br>\n",
    "  $ H_0:\\mu=1.32, H_1:\\mu<1.32$<br>\n",
    "  (Significant Level) $\\alpha =0.05$<br>"
   ]
  },
  {
   "cell_type": "code",
   "execution_count": 106,
   "metadata": {
    "ExecuteTime": {
     "end_time": "2019-07-12T06:01:59.045370Z",
     "start_time": "2019-07-12T06:01:59.035379Z"
    }
   },
   "outputs": [
    {
     "name": "stdout",
     "output_type": "stream",
     "text": [
      "모평균의 0.05% 신뢰구간 : ( 0.789 , 1.817 )\n",
      "검정통계량 T: -0.076\n",
      "P-Value     : 0.529\n",
      "기각역      : 검정통계량 T < -1.86\n",
      "==================================================\n",
      "판단 - 기각역\n",
      "  : 귀무가설을 기각할 충분한 근거가 없다.\n",
      "판단 - 유의확률\n",
      "  : 귀무가설을 기각할 충분한 근거가 없다.\n"
     ]
    }
   ],
   "source": [
    "import numpy as np\n",
    "import scipy.stats as st\n",
    "\n",
    "x_bar = 1.303\n",
    "mu_zero = 1.32\n",
    "sample_std = 0.669\n",
    "NumOfExperiment= 9\n",
    "alpha = 0.05\n",
    "\n",
    "# 신뢰구간\n",
    "CI_lowerBound = x_bar - ( st.t.ppf(1-(alpha/2), NumOfExperiment-1) * sample_std / np.sqrt(NumOfExperiment) )\n",
    "CI_upperBound = x_bar + ( st.t.ppf(1-(alpha\n",
    "                                      /2), NumOfExperiment-1) * sample_std / np.sqrt(NumOfExperiment) )\n",
    "\n",
    "print(\"모평균의 {}% 신뢰구간 : ( {} , {} )\".format(alpha, round(CI_lowerBound,3), round(CI_upperBound,3)))\n",
    "\n",
    "# 검정통계량\n",
    "test_stat_T = (x_bar - mu_zero) / (sample_std / np.sqrt(NumOfExperiment))\n",
    "print(\"검정통계량 T: {}\".format(round(test_stat_T,3)))\n",
    "\n",
    "# P-value\n",
    "P_Value = (1- st.t.cdf(test_stat_T, NumOfExperiment-1)) # 단측검정\n",
    "print(\"P-Value     : {}\".format(round(P_Value,3)))\n",
    "\n",
    "# 기각역\n",
    "reject_lowerBound = st.t.ppf(alpha, NumOfExperiment-1)\n",
    "\n",
    "print(\"기각역      : 검정통계량 T < {}\".format(round(reject_lowerBound, 3)))\n",
    "print('=' * 50)\n",
    "\n",
    "print(\"판단 - 기각역\")\n",
    "if test_stat_T < reject_lowerBound:\n",
    "    print(\"  : 검정통계량이 기각역에 속하므로 귀무가설을 기각할 수 있다.\")\n",
    "else:\n",
    "    print(\"  : 귀무가설을 기각할 충분한 근거가 없다.\")\n",
    "\n",
    "print(\"판단 - 유의확률\")\n",
    "if P_Value < alpha:\n",
    "    print(\"  : 유의확률 값이 유의수준({})보다 작으므로 귀무가설을 기각할 수 있다.\".format(alpha))\n",
    "else:\n",
    "    print(\"  : 귀무가설을 기각할 충분한 근거가 없다.\")"
   ]
  },
  {
   "cell_type": "markdown",
   "metadata": {},
   "source": [
    "---------------------------------------------------------------------------------------------<br>\n",
    "문제3 : 대응비교에 의한 모평균의 비교 \n",
    "  \n",
    "- 검정가설 및 유의수준 설정<br>\n",
    "  ${ H }_{ 0 }:{ \\mu  }_{ 1 }-{ \\mu  }_{ 2 }=2,\\quad { H }_{ 1 }:{ \\mu  }_{ 1 }-{ \\mu  }_{ 2 }> 2$<br>\n",
    "  (Significant Level) $\\alpha =0.05$<br>\n",
    "  검정통계량 $T=\\frac{\\bar{D}-\\delta }{S_D /\\sqrt{n}}\\sim t(n-1)$ under $H_0$"
   ]
  },
  {
   "cell_type": "code",
   "execution_count": 107,
   "metadata": {
    "ExecuteTime": {
     "end_time": "2019-07-12T06:02:02.498189Z",
     "start_time": "2019-07-12T06:02:02.489214Z"
    }
   },
   "outputs": [
    {
     "name": "stdout",
     "output_type": "stream",
     "text": [
      "검정통계량 T: 1.627\n",
      "P-Value     : 0.069\n",
      "기각역      : 검정통계량 T > 1.833\n",
      "==================================================\n",
      "판단 - 기각역\n",
      "  : 귀무가설을 기각할 충분한 근거가 없다.\n",
      "판단 - 유의확률\n",
      "  : 귀무가설을 기각할 충분한 근거가 없다.\n"
     ]
    }
   ],
   "source": [
    "import numpy as np\n",
    "import scipy.stats as st\n",
    "\n",
    "# 대응비교(Paired Comparison) Data\n",
    "w_bef = np.array([74,75,75,76,76,78,78,79,81,82])\n",
    "w_aft = np.array([70,71,73,73,75,76,76,77,78,80])\n",
    "\n",
    "# 대응 데이터 차이 산출\n",
    "w_diff = w_bef - w_aft\n",
    "\n",
    "# 차이값의 모평균의 관한 추론으로 변환하여 t검정 실행\n",
    "NumOfExperiment = len(w_diff)\n",
    "D_bar = np.mean(w_diff)\n",
    "D_std = np.std(w_diff) * np.sqrt(len(w_diff)/(len(w_diff)-1))\n",
    "\n",
    "delta = 2 #모평균의 차이\n",
    "\n",
    "# 검정통계량\n",
    "test_stat_T = (D_bar - delta) / (D_std / np.sqrt(NumOfExperiment))\n",
    "print(\"검정통계량 T: {}\".format(round(test_stat_T,3)))\n",
    "\n",
    "# P-value\n",
    "P_Value = 1 - st.t.cdf(test_stat_T, NumOfExperiment-1)\n",
    "print(\"P-Value     : {}\".format(round(P_Value,3)))\n",
    "\n",
    "# 기각역\n",
    "reject_upperBound = st.t.ppf(q=(1-alpha), df=NumOfExperiment-1)\n",
    "print(\"기각역      : 검정통계량 T > {}\".format(round(reject_upperBound, 3)))\n",
    "print('=' * 50)\n",
    "\n",
    "print(\"판단 - 기각역\")\n",
    "if test_stat_T > reject_upperBound:\n",
    "    print(\"  : 검정통계량이 기각역에 속하므로 귀무가설을 기각할 수 있다.\")\n",
    "else:\n",
    "    print(\"  : 귀무가설을 기각할 충분한 근거가 없다.\")\n",
    "\n",
    "print(\"판단 - 유의확률\")\n",
    "if P_Value < alpha:\n",
    "    print(\"  : 유의확률 값이 유의수준({})보다 작으므로 귀무가설을 기각할 수 있다.\".format(alpha))\n",
    "else:\n",
    "    print(\"  : 귀무가설을 기각할 충분한 근거가 없다.\")"
   ]
  },
  {
   "cell_type": "code",
   "execution_count": 112,
   "metadata": {
    "ExecuteTime": {
     "end_time": "2019-07-12T06:40:12.960469Z",
     "start_time": "2019-07-12T06:40:12.955483Z"
    }
   },
   "outputs": [
    {
     "name": "stdout",
     "output_type": "stream",
     "text": [
      "검정통계량 T  : 1.627\n",
      "P value       : 0.069\n"
     ]
    }
   ],
   "source": [
    "#ttest함수 사용 (쌍을 이루는 데이터의 차이 데이터를 일표본으로 한 t검정)\n",
    "result1 = st.ttest_1samp(w_diff,2)\n",
    "\n",
    "print('검정통계량 T  : {}'.format(round(result1[0],3)))\n",
    "print('P value       : {}'.format(round(result1[1]/2,3))) #단측검정"
   ]
  },
  {
   "cell_type": "code",
   "execution_count": 113,
   "metadata": {
    "ExecuteTime": {
     "end_time": "2019-07-12T06:40:53.327494Z",
     "start_time": "2019-07-12T06:40:53.321500Z"
    }
   },
   "outputs": [
    {
     "name": "stdout",
     "output_type": "stream",
     "text": [
      "검정통계량 T  : 1.627\n",
      "P value       : 0.069\n"
     ]
    }
   ],
   "source": [
    "#ttest함수 사용 (쌍을 이루는 데이터를 각각 이용한 모평균차이에 대한 검정)\n",
    "result2 = st.ttest_rel(w_bef, w_aft+2) #모평균의 차이가 2인지 검정\n",
    "\n",
    "print('검정통계량 T  : {}'.format(round(result2[0],3)))\n",
    "print('P value       : {}'.format(round(result2[1]/2,3)))  #단측검정"
   ]
  },
  {
   "cell_type": "markdown",
   "metadata": {},
   "source": [
    "---------------------------------------------------------------------------------------------<br>\n",
    "문제4 : 독립 이표본의 모평균의 비교 (모분산이 알려진 경우) \n",
    "  \n",
    "- 검정가설 및 유의수준 설정<br>\n",
    "  ${ H }_{ 0 }:{ \\mu  }_{ 1 }-{ \\mu  }_{ 2 }=0,\\quad { H }_{ 1 }:{ \\mu  }_{ 1 }-{ \\mu  }_{ 2 }< 0$<br>\n",
    "   ※ A반 평균성적 : ${ \\mu  }_{ 1 }$, B반 평균성적 : ${ \\mu  }_{ 2 }$<br>\n",
    "  (Significant Level) $\\alpha =0.05$<br>\n",
    "  검정통계량 $Z=\\frac{(\\bar{X_1}-\\bar{X_2})-(\\mu_1-\\mu_2)}{\\sqrt{\\frac{\\sigma_1^2}{n_1}+\\frac{\\sigma_2^2}{n_2}}} \\sim N(0,1)$ under $H_0$, 관측값=$z_0$"
   ]
  },
  {
   "cell_type": "code",
   "execution_count": 143,
   "metadata": {
    "ExecuteTime": {
     "end_time": "2019-07-12T09:15:46.229101Z",
     "start_time": "2019-07-12T09:15:46.218153Z"
    }
   },
   "outputs": [
    {
     "name": "stdout",
     "output_type": "stream",
     "text": [
      "검정통계량 Z: -1.697\n",
      "P-Value     : 0.045\n",
      "기각역      : 검정통계량 Z  < -1.645\n",
      "==================================================\n",
      "판단 - 기각역\n",
      "  : 검정통계량이 기각역에 속하므로 귀무가설을 기각할 수 있다.\n",
      "판단 - 유의확률\n",
      "  : 유의확률 값이 유의수준(0.05)보다 작으므로 귀무가설을 기각할 수 있다.\n"
     ]
    }
   ],
   "source": [
    "import numpy as np\n",
    "from scipy.stats import norm\n",
    "\n",
    "# 문제로부터\n",
    "X1_bar, X2_bar = 260, 280\n",
    "var1_known, var2_known = 625, 625\n",
    "n1, n2 = 9, 9\n",
    "\n",
    "alpha = 0.05 # 문제에는 기술되어있지 않음 (임의로 지정)\n",
    "\n",
    "# 모분산이 알려진 이표본의 평균에 대한 추론이므로 Z test를 수행\n",
    "\n",
    "# 검정통계량 Z\n",
    "test_stat_Z = ((X1_bar - X2_bar) - 0) / np.sqrt(var1_known/n1 + var2_known/n2)\n",
    "\n",
    "print(\"검정통계량 Z: {}\".format(round(test_stat_Z,3)))\n",
    "\n",
    "# P value\n",
    "P_value = norm.cdf(test_stat_Z)\n",
    "print(\"P-Value     : {}\".format(round(P_value,3)))\n",
    "\n",
    "# 기각역\n",
    "reject_lowerBound = norm.ppf(q = alpha, loc = 0, scale = 1)\n",
    "\n",
    "print(\"기각역      : 검정통계량 Z  < {}\".format(round(reject_lowerBound, 3)))\n",
    "print('=' * 50)\n",
    "\n",
    "print(\"판단 - 기각역\")\n",
    "if test_stat_Z < reject_lowerBound:\n",
    "    print(\"  : 검정통계량이 기각역에 속하므로 귀무가설을 기각할 수 있다.\")\n",
    "else:\n",
    "    print(\"  : 귀무가설을 기각할 충분한 근거가 없다.\")\n",
    "\n",
    "print(\"판단 - 유의확률\")\n",
    "if P_Value < alpha:\n",
    "    print(\"  : 유의확률 값이 유의수준({})보다 작으므로 귀무가설을 기각할 수 있다.\".format(alpha))\n",
    "else:\n",
    "    print(\"  : 귀무가설을 기각할 충분한 근거가 없다.\")"
   ]
  },
  {
   "cell_type": "markdown",
   "metadata": {},
   "source": [
    "---------------------------------------------------------------------------------------------<br>\n",
    "문제5 : 모분산에 관한 추론 \n",
    "  \n",
    "- 검정가설 및 유의수준 설정<br>\n",
    "  가설 $H_0 : \\sigma^2=1^2$, $H_1 : \\sigma^2>1^2$<br> \n",
    "  검정통계량 $\\chi^2=\\frac{(n-1)S^2}{{\\sigma}^2}\\sim \\chi^2(n-1)$ under $H_0$, 관측값=$\\chi_0^2$ <br>\n",
    "  (Significant Level) $\\alpha =0.025$<br>\n",
    "  정규모집단을 가정한 표본분산의 추론은 $\\chi^2$ 분포를 따르므로, $\\chi^2$ 검정 수행"
   ]
  },
  {
   "cell_type": "code",
   "execution_count": 144,
   "metadata": {
    "ExecuteTime": {
     "end_time": "2019-07-12T09:16:34.661863Z",
     "start_time": "2019-07-12T09:16:34.652887Z"
    }
   },
   "outputs": [
    {
     "name": "stdout",
     "output_type": "stream",
     "text": [
      "검정통계량 chi2: 34.628\n",
      "P Value        : 0.015\n",
      "기각역         : 검정통계량 chi2 > 32.852\n",
      "==================================================\n",
      "판단 - 기각역\n",
      "  : 검정통계량이 기각역에 속하므로 귀무가설을 기각할 수 있다.\n",
      "판단 - 유의확률\n",
      "  : 유의확률 값이 유의수준(0.025)보다 작으므로 귀무가설을 기각할 수 있다.\n"
     ]
    }
   ],
   "source": [
    "from scipy.stats import chi2\n",
    "\n",
    "#문제로부터\n",
    "sample_num = 20\n",
    "sample_std = 1.35\n",
    "std_UnderHo = 1\n",
    "alpha = 0.025\n",
    "\n",
    "# 카이제곱 검정\n",
    "\n",
    "# 검정통계량\n",
    "test_stat_chi2 = (sample_num-1) * (sample_std**2) / (std_UnderHo**2)\n",
    "\n",
    "print(\"검정통계량 chi2: {}\".format(round(test_stat_chi2,3)))\n",
    "\n",
    "# P-value\n",
    "P_Value = 1 - st.chi2.cdf(test_stat_chi2, df=sample_num-1)\n",
    "\n",
    "print(\"P Value        : {}\".format(round(P_Value,3)))  \n",
    "\n",
    "# 기각역\n",
    "reject_upperBound = st.chi2.ppf(q=(1-alpha), df=sample_num-1)\n",
    "\n",
    "print(\"기각역         : 검정통계량 chi2 > {}\".format(round(reject_upperBound, 3)))\n",
    "\n",
    "print('=' * 50)\n",
    "\n",
    "print(\"판단 - 기각역\")\n",
    "if test_stat_chi2 > reject_upperBound:\n",
    "    print(\"  : 검정통계량이 기각역에 속하므로 귀무가설을 기각할 수 있다.\")\n",
    "else:\n",
    "    print(\"  : 귀무가설을 기각할 충분한 근거가 없다.\")\n",
    "\n",
    "print(\"판단 - 유의확률\")\n",
    "if P_Value < alpha:\n",
    "    print(\"  : 유의확률 값이 유의수준({})보다 작으므로 귀무가설을 기각할 수 있다.\".format(alpha))\n",
    "else:\n",
    "    print(\"  : 귀무가설을 기각할 충분한 근거가 없다.\")"
   ]
  },
  {
   "cell_type": "markdown",
   "metadata": {},
   "source": [
    "---------------------------------------------------------------------------------------------<br>\n",
    "문제6 : 두 모집단의 분산의 비에 관한 추론 \n",
    "  \n",
    "- 검정가설 및 유의수준 설정<br>\n",
    "  가설 $H_0 : \\sigma_1^2=\\sigma_2^2$, $H_1 : \\sigma_1^2< \\sigma_2^2$<br>\n",
    "  (Significant Level) $\\alpha =0.05$<br>\n",
    "  검정통계량 $F=\\frac{S_1^2}{S_2^2}\\sim F({ n }_{ 1 }-1,{ n }_{ 2 }-1)$ under $H_0$"
   ]
  },
  {
   "cell_type": "code",
   "execution_count": 160,
   "metadata": {
    "ExecuteTime": {
     "end_time": "2019-07-12T09:40:09.227174Z",
     "start_time": "2019-07-12T09:40:09.218676Z"
    }
   },
   "outputs": [
    {
     "name": "stdout",
     "output_type": "stream",
     "text": [
      "검정통계량 F   : 0.172\n",
      "P Value        : 0.001\n",
      "기각역         : 검정통계량 F < 0.416\n",
      "==================================================\n",
      "판단 - 기각역\n",
      "  : 검정통계량이 기각역에 속하므로 귀무가설을 기각할 수 있다.\n",
      "판단 - 유의확률\n",
      "  : 유의확률 값이 유의수준(0.05)보다 작으므로 귀무가설을 기각할 수 있다.\n"
     ]
    }
   ],
   "source": [
    "# F test \n",
    "import numpy as np\n",
    "from scipy.stats import f\n",
    "\n",
    "# 문제로부터\n",
    "numA, numB = 16, 16\n",
    "stdA, stdB = np.sqrt(0.0025), np.sqrt(0.0145)\n",
    "alpha = 0.05\n",
    "\n",
    "# 검정통계량 F\n",
    "test_stat_F = (stdA**2) / (stdB**2)\n",
    "print(\"검정통계량 F   : {}\".format(round(test_stat_F,3)))\n",
    "\n",
    "# P value\n",
    "P_Value = st.f.cdf(test_stat_F, dfn=numA-1, dfd=numB-1)\n",
    "print(\"P Value        : {}\".format(round(P_Value,3)))  \n",
    "\n",
    "# 기각역\n",
    "reject_lowerBound = st.f.ppf(q=alpha, dfn=numA-1, dfd=numB-1)\n",
    "print(\"기각역         : 검정통계량 F < {}\".format(round(reject_lowerBound, 3)))\n",
    "\n",
    "print('=' * 50)\n",
    "\n",
    "print(\"판단 - 기각역\")\n",
    "if test_stat_F < reject_lowerBound:\n",
    "    print(\"  : 검정통계량이 기각역에 속하므로 귀무가설을 기각할 수 있다.\")\n",
    "else:\n",
    "    print(\"  : 귀무가설을 기각할 충분한 근거가 없다.\")\n",
    "\n",
    "print(\"판단 - 유의확률\")\n",
    "if P_Value < alpha:\n",
    "    print(\"  : 유의확률 값이 유의수준({})보다 작으므로 귀무가설을 기각할 수 있다.\".format(alpha))\n",
    "else:\n",
    "    print(\"  : 귀무가설을 기각할 충분한 근거가 없다.\")"
   ]
  },
  {
   "cell_type": "markdown",
   "metadata": {},
   "source": [
    "---------------------------------------------------------------------------------------------<br>\n",
    "문제7(a) : 두 모집단의 분산비에 관한 추론 \n",
    "  \n",
    "- 검정가설 및 유의수준 설정<br>\n",
    "  가설 $H_0 : \\sigma_1^2=\\sigma_2^2$, $H_1 : \\sigma_1^2\\neq \\sigma_2^2$<br>\n",
    "  (Significant Level) $\\alpha =0.05$<br>\n",
    "  검정통계량 $F=\\frac{S_1^2}{S_2^2}\\sim F({ n }_{ 1 }-1,{ n }_{ 2 }-1)$ under $H_0$\n",
    "  \n",
    "문제7(b) : 이 표본에 의한 모평균의 비교(모분산을 모르지만, 등분산임을 알고있을 때)<br>\n",
    "\n",
    "- 검정가설 및 유의수준 설정<br>\n",
    "  가설 ${ H }_{ 0 }:{ \\mu  }_{ 1 }={ \\mu  }_{ 2 },\\quad { H }_{ 1 }:{ \\mu  }_{ 1 }\\neq { \\mu  }_{ 2 }$ <br>\n",
    "  (Significant Level) $\\alpha =0.05$<br>\n"
   ]
  },
  {
   "cell_type": "code",
   "execution_count": 64,
   "metadata": {
    "ExecuteTime": {
     "end_time": "2019-07-12T14:27:34.676155Z",
     "start_time": "2019-07-12T14:27:34.653428Z"
    }
   },
   "outputs": [
    {
     "name": "stdout",
     "output_type": "stream",
     "text": [
      "========================================\n",
      "문제 (a)\n",
      "========================================\n",
      "검정통계량 F   : 0.992\n",
      "P Value     : 0.988\n",
      "기각역        : 검정통계량 F < 0.336 또는 F > 2.979\n",
      "판단 - 기각역\n",
      "  : 귀무가설을 기각할 충분한 근거가 없다.\n",
      "판단 - 유의확률\n",
      "  : 귀무가설을 기각할 충분한 근거가 없다.\n",
      "========================================\n",
      "문제 (b)\n",
      "========================================\n",
      "검정통계량 T   : -2.25\n",
      "P Value     : 0.016\n",
      "기각역        : 검정통계량 F < -2.048 또는 F > 2.048\n",
      "판단 - 기각역\n",
      "  : 검정통계량이 기각역에 속하므로 귀무가설을 기각할 수 있다.\n",
      "판단 - 유의확률\n",
      "  : 유의확률 값이 유의수준(0.05)보다 작으므로 귀무가설을 기각할 수 있다.\n"
     ]
    }
   ],
   "source": [
    "# F test \n",
    "import numpy as np\n",
    "import scipy.stats as st\n",
    "from scipy.stats import f\n",
    "from scipy.stats import t\n",
    "\n",
    "# 문제로부터\n",
    "numA, numB = 15, 15\n",
    "XbarA, XbarB = 403.2667, 660.4\n",
    "stdA, stdB = np.sqrt(97589.352), np.sqrt(98362.686)\n",
    "alpha = 0.05\n",
    "\n",
    "print('=' * 40)\n",
    "print('문제 (a)')\n",
    "print('=' * 40)\n",
    "# 검정통계량 F\n",
    "test_stat_F = (stdA**2) / (stdB**2)\n",
    "print(\"검정통계량 F   : {}\".format(round(test_stat_F,3)))\n",
    "\n",
    "# P-Value\n",
    "P_Value_a = min(st.f.cdf(test_stat_F, 14, 14)*2, (1 - st.f.cdf(test_stat_F, 14, 14))*2)\n",
    "print(\"P Value     : {}\".format(round(P_Value_a,3)))  \n",
    "\n",
    "# 기각역\n",
    "reject_lowerBound = st.f.ppf(alpha/2, numA-1, numB-1)\n",
    "reject_upperBound = st.f.ppf(1-(alpha/2), numA-1, numB-1)\n",
    "\n",
    "print(\"기각역        : 검정통계량 F < {} 또는 F > {}\".format(round(reject_lowerBound, 3), round(reject_upperBound, 3)))\n",
    "\n",
    "print(\"판단 - 기각역\")\n",
    "if test_stat_F < reject_lowerBound or test_stat_F > reject_upperBound:\n",
    "    print(\"  : 검정통계량이 기각역에 속하므로 귀무가설을 기각할 수 있다.\")\n",
    "else:\n",
    "    print(\"  : 귀무가설을 기각할 충분한 근거가 없다.\")\n",
    "\n",
    "print(\"판단 - 유의확률\")\n",
    "if P_Value_a < alpha:\n",
    "    print(\"  : 유의확률 값이 유의수준({})보다 작으므로 귀무가설을 기각할 수 있다.\".format(alpha))\n",
    "else:\n",
    "    print(\"  : 귀무가설을 기각할 충분한 근거가 없다.\")\n",
    "    \n",
    "    \n",
    "# 상기 검정에서 귀무가설(두 모집단이 등분산이다)를 기각하지 못하므로, 등분산이라고 가정할 수 있다.\n",
    "# 등분산인 두 독립 이표본의 모평균의 비교 검증은 t test로 실행하며\n",
    "\n",
    "print('=' * 40)\n",
    "print('문제 (b)')\n",
    "print('=' * 40)\n",
    "\n",
    "\n",
    "\n",
    "# 검정통계량 T\n",
    "pooled_Sample_Var = ((numA-1)*(stdA**2)+(numB-1)*(stdB**2))/(numA+numB-2)\n",
    "test_stat_T = ((XbarA-XbarB)-0)/ (np.sqrt(pooled_Sample_Var)*np.sqrt(numA**-1+numB**-1))\n",
    "\n",
    "print(\"검정통계량 T   : {}\".format(round(test_stat_T,3)))\n",
    "\n",
    "# P-Value\n",
    "P_Value_b = st.t.cdf(test_stat_T, df=numA+numB-2)\n",
    "print(\"P Value     : {}\".format(round(P_Value_b,3)))  \n",
    "\n",
    "# 기각역\n",
    "alpha = 0.05\n",
    "reject_lowerBound = st.t.ppf(alpha/2, df=numA+numB-2)\n",
    "reject_upperBound = st.t.ppf(1-(alpha/2), df=numA+numB-2)\n",
    "\n",
    "print(\"기각역        : 검정통계량 F < {} 또는 F > {}\".format(round(reject_lowerBound, 3), round(reject_upperBound, 3)))\n",
    "\n",
    "print(\"판단 - 기각역\")\n",
    "if test_stat_T < reject_lowerBound or test_stat_T > reject_upperBound:\n",
    "    print(\"  : 검정통계량이 기각역에 속하므로 귀무가설을 기각할 수 있다.\")\n",
    "else:\n",
    "    print(\"  : 귀무가설을 기각할 충분한 근거가 없다.\")\n",
    "\n",
    "print(\"판단 - 유의확률\")\n",
    "if P_Value_b < alpha:\n",
    "    print(\"  : 유의확률 값이 유의수준({})보다 작으므로 귀무가설을 기각할 수 있다.\".format(alpha))\n",
    "else:\n",
    "    print(\"  : 귀무가설을 기각할 충분한 근거가 없다.\")"
   ]
  },
  {
   "cell_type": "markdown",
   "metadata": {},
   "source": [
    "---------------------------------------------------------------------------------------------<br>\n",
    "표본상관계수의 검정 \n",
    "  \n",
    "- 검정가설 및 유의수준 설정<br>\n",
    "  가설 $H_0 : \\rho=0$,  $H_1 : \\rho\\neq0$<br>\n",
    "  (Significant Level) $\\alpha =0.05$<br>\n",
    "  검정통계량 $T=\\sqrt { n-2 } \\frac { r }{ \\sqrt { 1-{ r }^{ 2 } }  } $ under $H_0$"
   ]
  },
  {
   "cell_type": "code",
   "execution_count": 2,
   "metadata": {
    "ExecuteTime": {
     "end_time": "2019-07-14T23:44:41.739115Z",
     "start_time": "2019-07-14T23:44:41.711641Z"
    }
   },
   "outputs": [
    {
     "name": "stdout",
     "output_type": "stream",
     "text": [
      "X_bar = 0.0\n",
      "Y_bar = 0.0\n",
      "Sxx = 36.0\n",
      "Syy = 118.0\n",
      "Sxy = -57.0\n",
      "Corr = -0.875\n",
      "검정통계량 T   : -4.417\n",
      "P Value     : 0.002\n",
      "기각역        : 검정통계량 T < -2.447 또는 T > 2.447\n",
      "판단 - 기각역\n",
      "  : 검정통계량이 기각역에 속하므로 귀무가설을 기각할 수 있다.\n",
      "판단 - 유의확률\n",
      "  : 유의확률 값이 유의수준(0.05)보다 작으므로 귀무가설을 기각할 수 있다.\n"
     ]
    }
   ],
   "source": [
    "# 표본상관계수의 계산\n",
    "\n",
    "import numpy as np\n",
    "import scipy.stats as st\n",
    "from scipy.stats import t\n",
    "\n",
    "X = np.array([-2,-1,4,1,-1,0,2,-3])\n",
    "Y = np.array([7,3,-5,-3,0,-1,-4,3])\n",
    "\n",
    "num = len(X)\n",
    "\n",
    "X_bar, Y_bar = np.mean(X), np.mean(Y)\n",
    "\n",
    "print('X_bar = {}'.format(X_bar))\n",
    "print('Y_bar = {}'.format(Y_bar))\n",
    "\n",
    "SS_xx = sum((X-X_bar)**2)\n",
    "SS_yy = sum((Y-Y_bar)**2)\n",
    "SS_xy = sum((X-X_bar)*(Y-Y_bar))\n",
    "\n",
    "Corr = SS_xy / np.sqrt(SS_xx*SS_yy)\n",
    "\n",
    "print('Sxx = {}'.format(round(SS_xx,3)))\n",
    "print('Syy = {}'.format(round(SS_yy,3)))\n",
    "print('Sxy = {}'.format(round(SS_xy,3)))\n",
    "print('Corr = {}'.format(round(Corr,3)))\n",
    "\n",
    "# 검정통계량\n",
    "test_stat_T = np.sqrt(num-2)*(Corr/np.sqrt(1-Corr**2))\n",
    "\n",
    "print(\"검정통계량 T   : {}\".format(round(test_stat_T,3)))\n",
    "\n",
    "# P-Value\n",
    "P_Value = st.t.cdf(test_stat_T, num-2)\n",
    "print(\"P Value     : {}\".format(round(P_Value,3)))  \n",
    "\n",
    "# 기각역\n",
    "alpha = 0.05\n",
    "reject_lowerBound = st.t.ppf(alpha/2, df=num-2)\n",
    "reject_upperBound = st.t.ppf(1-(alpha/2), df=num-2)\n",
    "\n",
    "print(\"기각역        : 검정통계량 T < {} 또는 T > {}\".format(round(reject_lowerBound, 3), round(reject_upperBound, 3)))\n",
    "\n",
    "print(\"판단 - 기각역\")\n",
    "if test_stat_T < reject_lowerBound or test_stat_T > reject_upperBound:\n",
    "    print(\"  : 검정통계량이 기각역에 속하므로 귀무가설을 기각할 수 있다.\")\n",
    "else:\n",
    "    print(\"  : 귀무가설을 기각할 충분한 근거가 없다.\")\n",
    "\n",
    "print(\"판단 - 유의확률\")\n",
    "if P_Value < alpha:\n",
    "    print(\"  : 유의확률 값이 유의수준({})보다 작으므로 귀무가설을 기각할 수 있다.\".format(alpha))\n",
    "else:\n",
    "    print(\"  : 귀무가설을 기각할 충분한 근거가 없다.\")"
   ]
  },
  {
   "cell_type": "code",
   "execution_count": 3,
   "metadata": {
    "ExecuteTime": {
     "end_time": "2019-07-14T23:44:43.948409Z",
     "start_time": "2019-07-14T23:44:43.839560Z"
    }
   },
   "outputs": [
    {
     "name": "stdout",
     "output_type": "stream",
     "text": [
      "                            OLS Regression Results                            \n",
      "==============================================================================\n",
      "Dep. Variable:                      Y   R-squared:                       0.765\n",
      "Model:                            OLS   Adj. R-squared:                  0.726\n",
      "Method:                 Least Squares   F-statistic:                     19.51\n",
      "Date:                Mon, 15 Jul 2019   Prob (F-statistic):            0.00448\n",
      "Time:                        08:44:43   Log-Likelihood:                -16.327\n",
      "No. Observations:                   8   AIC:                             36.65\n",
      "Df Residuals:                       6   BIC:                             36.81\n",
      "Df Model:                           1                                         \n",
      "Covariance Type:            nonrobust                                         \n",
      "==============================================================================\n",
      "                 coef    std err          t      P>|t|      [0.025      0.975]\n",
      "------------------------------------------------------------------------------\n",
      "Intercept           0      0.760          0      1.000      -1.860       1.860\n",
      "X             -1.5833      0.358     -4.417      0.004      -2.460      -0.706\n",
      "==============================================================================\n",
      "Omnibus:                        2.581   Durbin-Watson:                   0.528\n",
      "Prob(Omnibus):                  0.275   Jarque-Bera (JB):                1.211\n",
      "Skew:                           0.925   Prob(JB):                        0.546\n",
      "Kurtosis:                       2.538   Cond. No.                         2.12\n",
      "==============================================================================\n",
      "\n",
      "Warnings:\n",
      "[1] Standard Errors assume that the covariance matrix of the errors is correctly specified.\n"
     ]
    },
    {
     "name": "stderr",
     "output_type": "stream",
     "text": [
      "C:\\Apps\\Anaconda3\\lib\\site-packages\\scipy\\stats\\stats.py:1416: UserWarning: kurtosistest only valid for n>=20 ... continuing anyway, n=8\n",
      "  \"anyway, n=%i\" % int(n))\n"
     ]
    }
   ],
   "source": [
    "import numpy as np\n",
    "import pandas as pd\n",
    "from scipy import stats as st\n",
    "import seaborn as sb\n",
    "import matplotlib.pyplot as plt\n",
    "from statsmodels.graphics.gofplots import ProbPlot\n",
    "\n",
    "\n",
    "from statsmodels.stats.anova import anova_lm\n",
    "from statsmodels.formula.api import ols\n",
    "\n",
    "\n",
    "X_df = pd.DataFrame(X, columns=[\"X\"])\n",
    "Y_df = pd.DataFrame(Y, columns=[\"Y\"])\n",
    "d = pd.concat([X_df, Y_df], axis=1)\n",
    "\n",
    "corr = d.corr(method='pearson')\n",
    "\n",
    "my_model=ols(formula='Y~X', data=d).fit()\n",
    "\n",
    "print(my_model.summary())"
   ]
  },
  {
   "cell_type": "code",
   "execution_count": 94,
   "metadata": {
    "ExecuteTime": {
     "end_time": "2019-07-13T15:26:56.343695Z",
     "start_time": "2019-07-13T15:26:56.330212Z"
    }
   },
   "outputs": [
    {
     "name": "stdout",
     "output_type": "stream",
     "text": [
      "X_bar = 40.75\n",
      "Y_bar = 30.25\n",
      "Sxx = 1083.75\n",
      "Syy = 231.75\n",
      "Sxy = 379.25\n",
      "Corr = 0.757\n",
      "검정통계량 T   : 4.911\n",
      "P Value     : 5.62553e-05\n",
      "기각역        : 검정통계량 T < -2.101 또는 T > 2.101\n",
      "판단 - 기각역\n",
      "  : 검정통계량이 기각역에 속하므로 귀무가설을 기각할 수 있다.\n",
      "판단 - 유의확률\n",
      "  : 유의확률 값이 유의수준(0.05)보다 작으므로 귀무가설을 기각할 수 있다.\n"
     ]
    }
   ],
   "source": [
    "#표본 상관계수 계산 및 검정 문제 \n",
    "\n",
    "import numpy as np\n",
    "import scipy.stats as st\n",
    "from scipy.stats import t\n",
    "\n",
    "X = np.array([42,38,51,53,40,37,41,29,52,39,45,34,47,35,44,48,47,30,29,34])\n",
    "Y = np.array([30,25,34,35,31,29,33,23,36,30,32,29,34,30,28,29,33,24,30,30])\n",
    "\n",
    "num = len(X)\n",
    "\n",
    "X_bar, Y_bar = np.mean(X), np.mean(Y)\n",
    "\n",
    "print('X_bar = {}'.format(X_bar))\n",
    "print('Y_bar = {}'.format(Y_bar))\n",
    "\n",
    "\n",
    "SS_xx = sum((X-X_bar)**2)\n",
    "SS_yy = sum((Y-Y_bar)**2)\n",
    "SS_xy = sum((X-X_bar)*(Y-Y_bar))\n",
    "\n",
    "Corr = SS_xy / np.sqrt(SS_xx*SS_yy)\n",
    "\n",
    "print('Sxx = {}'.format(round(SS_xx,3)))\n",
    "print('Syy = {}'.format(round(SS_yy,3)))\n",
    "print('Sxy = {}'.format(round(SS_xy,3)))\n",
    "print('Corr = {}'.format(round(Corr,3)))\n",
    "\n",
    "# 검정통계량\n",
    "test_stat_T = np.sqrt(num-2)*(Corr/np.sqrt(1-Corr**2))\n",
    "\n",
    "print(\"검정통계량 T   : {}\".format(round(test_stat_T,3)))\n",
    "\n",
    "# P-Value\n",
    "P_Value = 1- st.t.cdf(test_stat_T, num-2)\n",
    "print(\"P Value     : {}\".format(round(P_Value,10)))  \n",
    "\n",
    "# 기각역\n",
    "alpha = 0.05\n",
    "reject_lowerBound = st.t.ppf(alpha/2, df=num-2)\n",
    "reject_upperBound = st.t.ppf(1-(alpha/2), df=num-2)\n",
    "\n",
    "print(\"기각역        : 검정통계량 T < {} 또는 T > {}\".format(round(reject_lowerBound, 3), round(reject_upperBound, 3)))\n",
    "\n",
    "print(\"판단 - 기각역\")\n",
    "if test_stat_T < reject_lowerBound or test_stat_T > reject_upperBound:\n",
    "    print(\"  : 검정통계량이 기각역에 속하므로 귀무가설을 기각할 수 있다.\")\n",
    "else:\n",
    "    print(\"  : 귀무가설을 기각할 충분한 근거가 없다.\")\n",
    "\n",
    "print(\"판단 - 유의확률\")\n",
    "if P_Value < alpha:\n",
    "    print(\"  : 유의확률 값이 유의수준({})보다 작으므로 귀무가설을 기각할 수 있다.\".format(alpha))\n",
    "else:\n",
    "    print(\"  : 귀무가설을 기각할 충분한 근거가 없다.\")"
   ]
  },
  {
   "cell_type": "code",
   "execution_count": 109,
   "metadata": {
    "ExecuteTime": {
     "end_time": "2019-07-13T15:33:14.464874Z",
     "start_time": "2019-07-13T15:33:14.400228Z"
    }
   },
   "outputs": [
    {
     "name": "stdout",
     "output_type": "stream",
     "text": [
      "                            OLS Regression Results                            \n",
      "==============================================================================\n",
      "Dep. Variable:                English   R-squared:                       0.573\n",
      "Model:                            OLS   Adj. R-squared:                  0.549\n",
      "Method:                 Least Squares   F-statistic:                     24.12\n",
      "Date:                Sun, 14 Jul 2019   Prob (F-statistic):           0.000113\n",
      "Time:                        00:33:14   Log-Likelihood:                -44.376\n",
      "No. Observations:                  20   AIC:                             92.75\n",
      "Df Residuals:                      18   BIC:                             94.74\n",
      "Df Model:                           1                                         \n",
      "Covariance Type:            nonrobust                                         \n",
      "==============================================================================\n",
      "                 coef    std err          t      P>|t|      [0.025      0.975]\n",
      "------------------------------------------------------------------------------\n",
      "Intercept     15.9899      2.950      5.419      0.000       9.791      22.189\n",
      "Korean         0.3499      0.071      4.911      0.000       0.200       0.500\n",
      "==============================================================================\n",
      "Omnibus:                        1.491   Durbin-Watson:                   2.023\n",
      "Prob(Omnibus):                  0.474   Jarque-Bera (JB):                1.301\n",
      "Skew:                          -0.521   Prob(JB):                        0.522\n",
      "Kurtosis:                       2.310   Cond. No.                         233.\n",
      "==============================================================================\n",
      "\n",
      "Warnings:\n",
      "[1] Standard Errors assume that the covariance matrix of the errors is correctly specified.\n"
     ]
    }
   ],
   "source": [
    "import numpy as np\n",
    "import pandas as pd\n",
    "from scipy import stats as st\n",
    "import seaborn as sb\n",
    "import matplotlib.pyplot as plt\n",
    "from statsmodels.graphics.gofplots import ProbPlot\n",
    "\n",
    "\n",
    "from statsmodels.stats.anova import anova_lm\n",
    "from statsmodels.formula.api import ols\n",
    "\n",
    "\n",
    "X_df = pd.DataFrame(X, columns=[\"Korean\"])\n",
    "Y_df = pd.DataFrame(Y, columns=[\"English\"])\n",
    "d = pd.concat([X_df, Y_df], axis=1)\n",
    "\n",
    "corr = d.corr(method='pearson')\n",
    "\n",
    "my_model=ols(formula='English~Korean', data=d).fit()\n",
    "\n",
    "print(my_model.summary())"
   ]
  },
  {
   "cell_type": "code",
   "execution_count": null,
   "metadata": {},
   "outputs": [],
   "source": [
    "    "
   ]
  }
 ],
 "metadata": {
  "kernelspec": {
   "display_name": "Python 3",
   "language": "python",
   "name": "python3"
  },
  "language_info": {
   "codemirror_mode": {
    "name": "ipython",
    "version": 3
   },
   "file_extension": ".py",
   "mimetype": "text/x-python",
   "name": "python",
   "nbconvert_exporter": "python",
   "pygments_lexer": "ipython3",
   "version": "3.7.3"
  },
  "toc": {
   "base_numbering": 1,
   "nav_menu": {},
   "number_sections": true,
   "sideBar": true,
   "skip_h1_title": false,
   "title_cell": "Table of Contents",
   "title_sidebar": "Contents",
   "toc_cell": false,
   "toc_position": {},
   "toc_section_display": true,
   "toc_window_display": false
  },
  "varInspector": {
   "cols": {
    "lenName": 16,
    "lenType": 16,
    "lenVar": 40
   },
   "kernels_config": {
    "python": {
     "delete_cmd_postfix": "",
     "delete_cmd_prefix": "del ",
     "library": "var_list.py",
     "varRefreshCmd": "print(var_dic_list())"
    },
    "r": {
     "delete_cmd_postfix": ") ",
     "delete_cmd_prefix": "rm(",
     "library": "var_list.r",
     "varRefreshCmd": "cat(var_dic_list()) "
    }
   },
   "types_to_exclude": [
    "module",
    "function",
    "builtin_function_or_method",
    "instance",
    "_Feature"
   ],
   "window_display": false
  }
 },
 "nbformat": 4,
 "nbformat_minor": 2
}
